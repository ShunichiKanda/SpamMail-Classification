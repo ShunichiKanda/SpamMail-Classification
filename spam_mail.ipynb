{
  "nbformat": 4,
  "nbformat_minor": 0,
  "metadata": {
    "colab": {
      "name": "spam-mail.ipynb",
      "provenance": [],
      "collapsed_sections": [],
      "authorship_tag": "ABX9TyONnBIhKYXOrmmjvFIydVnR",
      "include_colab_link": true
    },
    "kernelspec": {
      "name": "python3",
      "display_name": "Python 3"
    },
    "accelerator": "GPU"
  },
  "cells": [
    {
      "cell_type": "markdown",
      "metadata": {
        "id": "view-in-github",
        "colab_type": "text"
      },
      "source": [
        "<a href=\"https://colab.research.google.com/github/ShunichiKanda/SpamMail-Classification/blob/master/spam_mail.ipynb\" target=\"_parent\"><img src=\"https://colab.research.google.com/assets/colab-badge.svg\" alt=\"Open In Colab\"/></a>"
      ]
    },
    {
      "cell_type": "code",
      "metadata": {
        "colab": {
          "base_uri": "https://localhost:8080/"
        },
        "id": "it4D28cudLc5",
        "outputId": "b414b5ce-9e65-46c2-b09a-91fcfe0d4d25"
      },
      "source": [
        "from google.colab import drive\n",
        "drive.mount('/content/drive')\n",
        "%cd \"drive/My Drive/\""
      ],
      "execution_count": 164,
      "outputs": [
        {
          "output_type": "stream",
          "text": [
            "Drive already mounted at /content/drive; to attempt to forcibly remount, call drive.mount(\"/content/drive\", force_remount=True).\n",
            "[Errno 2] No such file or directory: 'drive/My Drive/'\n",
            "/content/drive/My Drive\n"
          ],
          "name": "stdout"
        }
      ]
    },
    {
      "cell_type": "code",
      "metadata": {
        "id": "91nmmVZcY8oD"
      },
      "source": [
        "import re\n",
        "import string\n",
        "\n",
        "import matplotlib.pyplot as plt\n",
        "import nltk\n",
        "import numpy as np\n",
        "import pandas as pd\n",
        "import scipy.stats as stats\n",
        "import seaborn as sns\n",
        "from bs4 import BeautifulSoup\n",
        "from imblearn.under_sampling import RandomUnderSampler\n",
        "from nltk.corpus import stopwords\n",
        "from sklearn.feature_extraction.text import CountVectorizer\n",
        "from sklearn.metrics import f1_score\n",
        "from sklearn.naive_bayes import MultinomialNB\n",
        "from wordcloud import STOPWORDS, WordCloud\n",
        "from nltk.corpus import stopwords\n",
        "from nltk.stem.porter import PorterStemmer\n",
        "from sklearn.ensemble import ExtraTreesClassifier, BaggingClassifier\n",
        "import math\n",
        "import statistics\n",
        "from imblearn.over_sampling import SMOTE"
      ],
      "execution_count": 165,
      "outputs": []
    },
    {
      "cell_type": "code",
      "metadata": {
        "id": "XTB61LCAZnC1"
      },
      "source": [
        "df = pd.read_csv(\"spam_train_data.csv\")\n",
        "test = pd.read_csv(\"spam_test_data.csv\")"
      ],
      "execution_count": 166,
      "outputs": []
    },
    {
      "cell_type": "code",
      "metadata": {
        "colab": {
          "base_uri": "https://localhost:8080/",
          "height": 419
        },
        "id": "KhpgwHE7ZpDN",
        "outputId": "3c9b534c-eb92-49b3-d0d2-ed8eeb640b12"
      },
      "source": [
        "df"
      ],
      "execution_count": 167,
      "outputs": [
        {
          "output_type": "execute_result",
          "data": {
            "text/html": [
              "<div>\n",
              "<style scoped>\n",
              "    .dataframe tbody tr th:only-of-type {\n",
              "        vertical-align: middle;\n",
              "    }\n",
              "\n",
              "    .dataframe tbody tr th {\n",
              "        vertical-align: top;\n",
              "    }\n",
              "\n",
              "    .dataframe thead th {\n",
              "        text-align: right;\n",
              "    }\n",
              "</style>\n",
              "<table border=\"1\" class=\"dataframe\">\n",
              "  <thead>\n",
              "    <tr style=\"text-align: right;\">\n",
              "      <th></th>\n",
              "      <th>id</th>\n",
              "      <th>contents</th>\n",
              "      <th>y</th>\n",
              "    </tr>\n",
              "  </thead>\n",
              "  <tbody>\n",
              "    <tr>\n",
              "      <th>0</th>\n",
              "      <td>1</td>\n",
              "      <td>Subject: re : fw : willis phillips\\r\\ni just s...</td>\n",
              "      <td>0</td>\n",
              "    </tr>\n",
              "    <tr>\n",
              "      <th>1</th>\n",
              "      <td>2</td>\n",
              "      <td>Subject: re : factor loadings for primary curv...</td>\n",
              "      <td>0</td>\n",
              "    </tr>\n",
              "    <tr>\n",
              "      <th>2</th>\n",
              "      <td>3</td>\n",
              "      <td>Subject: re : meridian phone for kate symes\\r\\...</td>\n",
              "      <td>0</td>\n",
              "    </tr>\n",
              "    <tr>\n",
              "      <th>3</th>\n",
              "      <td>4</td>\n",
              "      <td>Subject: re : october wellhead\\r\\nvance ,\\r\\nd...</td>\n",
              "      <td>0</td>\n",
              "    </tr>\n",
              "    <tr>\n",
              "      <th>4</th>\n",
              "      <td>5</td>\n",
              "      <td>Subject: california 6 / 13\\r\\nexecutive summar...</td>\n",
              "      <td>0</td>\n",
              "    </tr>\n",
              "    <tr>\n",
              "      <th>...</th>\n",
              "      <td>...</td>\n",
              "      <td>...</td>\n",
              "      <td>...</td>\n",
              "    </tr>\n",
              "    <tr>\n",
              "      <th>8873</th>\n",
              "      <td>8874</td>\n",
              "      <td>Subject: uk rpi model\\r\\nhi zimin !\\r\\nplease ...</td>\n",
              "      <td>0</td>\n",
              "    </tr>\n",
              "    <tr>\n",
              "      <th>8874</th>\n",
              "      <td>8875</td>\n",
              "      <td>Subject: new sitara desk request\\r\\nthis needs...</td>\n",
              "      <td>0</td>\n",
              "    </tr>\n",
              "    <tr>\n",
              "      <th>8875</th>\n",
              "      <td>8876</td>\n",
              "      <td>Subject: enterprise risk management\\r\\ndear vi...</td>\n",
              "      <td>0</td>\n",
              "    </tr>\n",
              "    <tr>\n",
              "      <th>8876</th>\n",
              "      <td>8877</td>\n",
              "      <td>Subject: re : the spreadsheet for talon deal\\r...</td>\n",
              "      <td>0</td>\n",
              "    </tr>\n",
              "    <tr>\n",
              "      <th>8877</th>\n",
              "      <td>8878</td>\n",
              "      <td>Subject: re : tenaska iv march 2001\\r\\nyes , t...</td>\n",
              "      <td>0</td>\n",
              "    </tr>\n",
              "  </tbody>\n",
              "</table>\n",
              "<p>8878 rows × 3 columns</p>\n",
              "</div>"
            ],
            "text/plain": [
              "        id                                           contents  y\n",
              "0        1  Subject: re : fw : willis phillips\\r\\ni just s...  0\n",
              "1        2  Subject: re : factor loadings for primary curv...  0\n",
              "2        3  Subject: re : meridian phone for kate symes\\r\\...  0\n",
              "3        4  Subject: re : october wellhead\\r\\nvance ,\\r\\nd...  0\n",
              "4        5  Subject: california 6 / 13\\r\\nexecutive summar...  0\n",
              "...    ...                                                ... ..\n",
              "8873  8874  Subject: uk rpi model\\r\\nhi zimin !\\r\\nplease ...  0\n",
              "8874  8875  Subject: new sitara desk request\\r\\nthis needs...  0\n",
              "8875  8876  Subject: enterprise risk management\\r\\ndear vi...  0\n",
              "8876  8877  Subject: re : the spreadsheet for talon deal\\r...  0\n",
              "8877  8878  Subject: re : tenaska iv march 2001\\r\\nyes , t...  0\n",
              "\n",
              "[8878 rows x 3 columns]"
            ]
          },
          "metadata": {
            "tags": []
          },
          "execution_count": 167
        }
      ]
    },
    {
      "cell_type": "code",
      "metadata": {
        "colab": {
          "base_uri": "https://localhost:8080/",
          "height": 35
        },
        "id": "sIGk4YRpIRDl",
        "outputId": "e05aa9c2-85d2-4ac3-fcf0-040ed7b4b6e7"
      },
      "source": [
        "''' print('contentsが重複:', len(df[df.duplicated(subset=[\"contents\"])]))\n",
        "print('contentsとyがどちらも重複:', len(df[df.duplicated(subset=[\"contents\", \"y\"])]))\n",
        "df[df.duplicated(subset=[\"contents\", \"y\"])] '''"
      ],
      "execution_count": 168,
      "outputs": [
        {
          "output_type": "execute_result",
          "data": {
            "application/vnd.google.colaboratory.intrinsic+json": {
              "type": "string"
            },
            "text/plain": [
              "' print(\\'contentsが重複:\\', len(df[df.duplicated(subset=[\"contents\"])]))\\nprint(\\'contentsとyがどちらも重複:\\', len(df[df.duplicated(subset=[\"contents\", \"y\"])]))\\ndf[df.duplicated(subset=[\"contents\", \"y\"])] '"
            ]
          },
          "metadata": {
            "tags": []
          },
          "execution_count": 168
        }
      ]
    },
    {
      "cell_type": "code",
      "metadata": {
        "colab": {
          "base_uri": "https://localhost:8080/",
          "height": 35
        },
        "id": "ogYxb3yaHA4k",
        "outputId": "d0a5d6f2-917e-4343-bd2c-623e1873d0c3"
      },
      "source": [
        "''' df.drop_duplicates(['contents', 'y'], inplace=True) '''"
      ],
      "execution_count": 169,
      "outputs": [
        {
          "output_type": "execute_result",
          "data": {
            "application/vnd.google.colaboratory.intrinsic+json": {
              "type": "string"
            },
            "text/plain": [
              "\" df.drop_duplicates(['contents', 'y'], inplace=True) \""
            ]
          },
          "metadata": {
            "tags": []
          },
          "execution_count": 169
        }
      ]
    },
    {
      "cell_type": "code",
      "metadata": {
        "colab": {
          "base_uri": "https://localhost:8080/",
          "height": 419
        },
        "id": "rsD-SqJUIbJP",
        "outputId": "133d4965-02f6-4666-84d7-2c9d7e4e96d6"
      },
      "source": [
        "df"
      ],
      "execution_count": 170,
      "outputs": [
        {
          "output_type": "execute_result",
          "data": {
            "text/html": [
              "<div>\n",
              "<style scoped>\n",
              "    .dataframe tbody tr th:only-of-type {\n",
              "        vertical-align: middle;\n",
              "    }\n",
              "\n",
              "    .dataframe tbody tr th {\n",
              "        vertical-align: top;\n",
              "    }\n",
              "\n",
              "    .dataframe thead th {\n",
              "        text-align: right;\n",
              "    }\n",
              "</style>\n",
              "<table border=\"1\" class=\"dataframe\">\n",
              "  <thead>\n",
              "    <tr style=\"text-align: right;\">\n",
              "      <th></th>\n",
              "      <th>id</th>\n",
              "      <th>contents</th>\n",
              "      <th>y</th>\n",
              "    </tr>\n",
              "  </thead>\n",
              "  <tbody>\n",
              "    <tr>\n",
              "      <th>0</th>\n",
              "      <td>1</td>\n",
              "      <td>Subject: re : fw : willis phillips\\r\\ni just s...</td>\n",
              "      <td>0</td>\n",
              "    </tr>\n",
              "    <tr>\n",
              "      <th>1</th>\n",
              "      <td>2</td>\n",
              "      <td>Subject: re : factor loadings for primary curv...</td>\n",
              "      <td>0</td>\n",
              "    </tr>\n",
              "    <tr>\n",
              "      <th>2</th>\n",
              "      <td>3</td>\n",
              "      <td>Subject: re : meridian phone for kate symes\\r\\...</td>\n",
              "      <td>0</td>\n",
              "    </tr>\n",
              "    <tr>\n",
              "      <th>3</th>\n",
              "      <td>4</td>\n",
              "      <td>Subject: re : october wellhead\\r\\nvance ,\\r\\nd...</td>\n",
              "      <td>0</td>\n",
              "    </tr>\n",
              "    <tr>\n",
              "      <th>4</th>\n",
              "      <td>5</td>\n",
              "      <td>Subject: california 6 / 13\\r\\nexecutive summar...</td>\n",
              "      <td>0</td>\n",
              "    </tr>\n",
              "    <tr>\n",
              "      <th>...</th>\n",
              "      <td>...</td>\n",
              "      <td>...</td>\n",
              "      <td>...</td>\n",
              "    </tr>\n",
              "    <tr>\n",
              "      <th>8873</th>\n",
              "      <td>8874</td>\n",
              "      <td>Subject: uk rpi model\\r\\nhi zimin !\\r\\nplease ...</td>\n",
              "      <td>0</td>\n",
              "    </tr>\n",
              "    <tr>\n",
              "      <th>8874</th>\n",
              "      <td>8875</td>\n",
              "      <td>Subject: new sitara desk request\\r\\nthis needs...</td>\n",
              "      <td>0</td>\n",
              "    </tr>\n",
              "    <tr>\n",
              "      <th>8875</th>\n",
              "      <td>8876</td>\n",
              "      <td>Subject: enterprise risk management\\r\\ndear vi...</td>\n",
              "      <td>0</td>\n",
              "    </tr>\n",
              "    <tr>\n",
              "      <th>8876</th>\n",
              "      <td>8877</td>\n",
              "      <td>Subject: re : the spreadsheet for talon deal\\r...</td>\n",
              "      <td>0</td>\n",
              "    </tr>\n",
              "    <tr>\n",
              "      <th>8877</th>\n",
              "      <td>8878</td>\n",
              "      <td>Subject: re : tenaska iv march 2001\\r\\nyes , t...</td>\n",
              "      <td>0</td>\n",
              "    </tr>\n",
              "  </tbody>\n",
              "</table>\n",
              "<p>8878 rows × 3 columns</p>\n",
              "</div>"
            ],
            "text/plain": [
              "        id                                           contents  y\n",
              "0        1  Subject: re : fw : willis phillips\\r\\ni just s...  0\n",
              "1        2  Subject: re : factor loadings for primary curv...  0\n",
              "2        3  Subject: re : meridian phone for kate symes\\r\\...  0\n",
              "3        4  Subject: re : october wellhead\\r\\nvance ,\\r\\nd...  0\n",
              "4        5  Subject: california 6 / 13\\r\\nexecutive summar...  0\n",
              "...    ...                                                ... ..\n",
              "8873  8874  Subject: uk rpi model\\r\\nhi zimin !\\r\\nplease ...  0\n",
              "8874  8875  Subject: new sitara desk request\\r\\nthis needs...  0\n",
              "8875  8876  Subject: enterprise risk management\\r\\ndear vi...  0\n",
              "8876  8877  Subject: re : the spreadsheet for talon deal\\r...  0\n",
              "8877  8878  Subject: re : tenaska iv march 2001\\r\\nyes , t...  0\n",
              "\n",
              "[8878 rows x 3 columns]"
            ]
          },
          "metadata": {
            "tags": []
          },
          "execution_count": 170
        }
      ]
    },
    {
      "cell_type": "code",
      "metadata": {
        "colab": {
          "base_uri": "https://localhost:8080/"
        },
        "id": "pRojpt-DxHAJ",
        "outputId": "412db3e4-7cda-4774-bac1-7ed2b999fdda"
      },
      "source": [
        "df.info()"
      ],
      "execution_count": 171,
      "outputs": [
        {
          "output_type": "stream",
          "text": [
            "<class 'pandas.core.frame.DataFrame'>\n",
            "RangeIndex: 8878 entries, 0 to 8877\n",
            "Data columns (total 3 columns):\n",
            " #   Column    Non-Null Count  Dtype \n",
            "---  ------    --------------  ----- \n",
            " 0   id        8878 non-null   int64 \n",
            " 1   contents  8878 non-null   object\n",
            " 2   y         8878 non-null   int64 \n",
            "dtypes: int64(2), object(1)\n",
            "memory usage: 208.2+ KB\n"
          ],
          "name": "stdout"
        }
      ]
    },
    {
      "cell_type": "code",
      "metadata": {
        "colab": {
          "base_uri": "https://localhost:8080/"
        },
        "id": "6VcccVMqyGFa",
        "outputId": "27ebdf15-f716-427d-bc4c-c9f198b439c4"
      },
      "source": [
        "for i in df.iterrows():\n",
        "    print(\"Class Label: {}\\nMail: \\n{}\\n\\n\".format(i[1][2], i[1][1]))\n",
        "    if i[0] == 6: break"
      ],
      "execution_count": 172,
      "outputs": [
        {
          "output_type": "stream",
          "text": [
            "Class Label: 0\n",
            "Mail: \n",
            "Subject: re : fw : willis phillips\r\n",
            "i just spoke to lavo and he said the same thing . we are planning on offering willis an associate position in east power . i propose we offer 75 k salary with 25 k sign - on . we would require a 90 day evergreen non - compete and payback of 25 k retention in the event he left within the the lst year .\r\n",
            "kim - can you please prepare the offer package based on the above .\r\n",
            "thanks .\n",
            "\n",
            "\n",
            "Class Label: 0\n",
            "Mail: \n",
            "Subject: re : factor loadings for primary curves\r\n",
            "tanya ,\r\n",
            "i went through the comparisons for the liquids curves and the\r\n",
            "appearance of clear parallel shifts , etc , do begin to emerge when fewer\r\n",
            "forward prices are used . it looks sensible . i have passed the graphs over\r\n",
            "to the liquids people , and i have asked them to identify rough term structure\r\n",
            "months when illiquidity begins for these curves . it might coincide with your\r\n",
            "assumptions . i am surprised by brent and dubai , which should be wti - clones .\r\n",
            "naveen\r\n",
            "tanya tamarchenko @ ect\r\n",
            "10 / 04 / 2000 04 : 35 pm\r\n",
            "to : naveen andrews / corp / enron @ enron , vladimir gorny / hou / ect @ ect\r\n",
            "cc : vince j kaminski / hou / ect @ ect , kirstee hewitt / lon / ect @ ect\r\n",
            "subject : re : factor loadings for primary curves\r\n",
            "naveen & vlady ,\r\n",
            "jin yu finished debugging the vatrfacs code and now it calculates factor\r\n",
            "loadings for every \" primary \" curve ( except power curves ) .\r\n",
            "i am sending you the calculated factors :\r\n",
            "most of them don ' t look good . 60 forward prices were used in calculations for\r\n",
            "each commodity .\r\n",
            "i reran the code using fewer forward prices depending on the commodity\r\n",
            "( 12 prices for c 3 gc , mtbe , nc 4 , so 2 ,\r\n",
            "17 prices for nxho , 18 - for sa ,\r\n",
            "24 for c 2 gc , lax _ jfk , ,\r\n",
            "30 - for condensate , dubaicrude , brent , ,\r\n",
            "48 for nsw , semichem - risi )\r\n",
            "these results are in\r\n",
            "most of them look much better .\r\n",
            "please , review .\r\n",
            "we will have to add a column in rms _ main _ curve _ list to specify how many\r\n",
            "forward prices we want to use for each commodity ,\r\n",
            "and then use the new factors in the var model .\r\n",
            "tanya .\n",
            "\n",
            "\n",
            "Class Label: 0\n",
            "Mail: \n",
            "Subject: re : meridian phone for kate symes\r\n",
            "bill ,\r\n",
            "it should be done by mid afternoon today .\r\n",
            "dave\r\n",
            "- - - - - original message - - - - -\r\n",
            "from : williams iii , bill\r\n",
            "sent : wednesday , september 12 , 2001 10 : 25 am\r\n",
            "to : steiner , david\r\n",
            "subject : meridian phone for kate symes\r\n",
            "importance : high\r\n",
            "dave ,\r\n",
            "any word from pge regarding a phone for kate ?\r\n",
            "anything i can do to help ?\r\n",
            "just let me know .\r\n",
            "thanks ,\r\n",
            "bill\n",
            "\n",
            "\n",
            "Class Label: 0\n",
            "Mail: \n",
            "Subject: re : october wellhead\r\n",
            "vance ,\r\n",
            "deal # 420022 has been created and entered in sitara .\r\n",
            "bob\r\n",
            "vance l taylor\r\n",
            "09 / 28 / 2000 02 : 09 pm\r\n",
            "to : julie meyers / hou / ect @ ect\r\n",
            "cc : daren j farmer / hou / ect @ ect , robert cotten / hou / ect @ ect\r\n",
            "subject : re : october wellhead\r\n",
            "bob ,\r\n",
            "please create and enter into sitara a ticket based on the following\r\n",
            "information :\r\n",
            "counterparty meter volume price period\r\n",
            "heatherloch municipal utility district 6879 500 mmbtu / d 100 % if / hsc less\r\n",
            "$ 0 . 12 10 / 1 - 10 / 31\r\n",
            "julie meyers\r\n",
            "09 / 28 / 2000 10 : 52 am\r\n",
            "daren j farmer\r\n",
            "09 / 28 / 2000 07 : 41 am\n",
            "\n",
            "\n",
            "Class Label: 0\n",
            "Mail: \n",
            "Subject: california 6 / 13\r\n",
            "executive summary\r\n",
            "- cpuc rules that socal must pay 15 % of debt to qfs ( approximately $ 50 million )\r\n",
            "- ruling heightens likelihood of voluntary bankruptcy filing by socal\r\n",
            "- voluntary filing further heightened by successful ring - fencing by eix parent\r\n",
            "- bankruptcy judge firm in support for qfs\r\n",
            "report\r\n",
            "1 . socal loses cpuc ruling , but retains appeal option\r\n",
            "as you may have seen , bloomberg reported that the cpuc voted 5 - 0 to force socal to make 15 % of its payments owed to alternative energy producers in california . cpuc rules allow 30 days to appeal its rulings , leaving a window open for socal to buy more time .\r\n",
            "2 . voluntary filing in ?\r\n",
            "with regard to a socal bankruptcy filing , the key now is how socal ' s board\r\n",
            "feels about progress rather than deadlines with creditors . in other words ,\r\n",
            "sources believe that a voluntary filing is more likely than an involuntary\r\n",
            "filing . a continuing lack of progress on a bailout and an increase in the\r\n",
            "number of liens filed against socal is more likely to make the socal board\r\n",
            "want to file for bankrutpcy voluntarily . the recent ring - fencing by edison\r\n",
            "international reflects their need to pay off cross - default risk and to cut ties\r\n",
            "in their bank facility between the parent company and lines of credit helds by socal .\r\n",
            "in and of outself , it does not necessarily signal an imminent filing .\r\n",
            "3 . involuntary out ?\r\n",
            "sources indicate that the unsecured financial creditors are not\r\n",
            "considering a filing against socal . this is because the financial creditors\r\n",
            "believe that they would still be worse off in bankruptcy . sources report\r\n",
            "that in creditor discussions , there has not been talk of the debt holders\r\n",
            "not being paid . \" people have talked about screwing the generators and\r\n",
            "everyone else , but not the debt holders , \" a source commented .\r\n",
            "the qfs are unlikely to file against socal because they have fairly good\r\n",
            "contracts in place . also , they receive high capacity fees in the summer\r\n",
            "( these fees vary seasonally and are distinct from generating fees ) . these\r\n",
            "capacity fees are calculated on a rolling , 4 - year basis and will be\r\n",
            "re - calculated next year . the qfs want this summer included in the\r\n",
            "recalculation , incentivizing them to keep their contracts in place .\r\n",
            "4 . montali supporting qfs\r\n",
            "judge montali , by his recent rulings , is sending a signal that he is\r\n",
            "concerned for the qfs and is sensitive to their hardships . he is trying to\r\n",
            "help them through his rulings . for example , as long as qfs remain on line ,\r\n",
            "those who petition can receive additional payments from pg & e . over a\r\n",
            "4 - month period , these payments equal 20 % of the qfs ' pre - petition claims .\r\n",
            "this provides the qfs incentive to remain connected to pg & e .\r\n",
            "5 . ge looking to restructure generating capacity financing\r\n",
            "general electric is reportedly \" deeply concerned \" about the stability of\r\n",
            "financing generating capacity in the us . ( ge has over 70 % of the gas\r\n",
            "turbine market . ) ge is reportedly trying to keep its margins down and is\r\n",
            "not raising its prices due to concerns about instability . sources believe\r\n",
            "that a very significant percentage of generating capacity financing will\r\n",
            "have to be restrucured in five years .\n",
            "\n",
            "\n",
            "Class Label: 0\n",
            "Mail: \n",
            "Subject: fw : marc sabine\r\n",
            "just making sure you are aware . . . .\r\n",
            "- - - - - original message - - - - -\r\n",
            "from : callahan , timothy\r\n",
            "sent : monday , august 13 , 2001 6 : 39 pm\r\n",
            "to : vu , nancy h . ; melodick , kim\r\n",
            "cc : whiteurst , lloyd ; longoria , rebecca\r\n",
            "subject : marc sabine\r\n",
            "nancy / kim ,\r\n",
            "received a call from marc today . he will be relocating back from monterrey effective august 31 . please confirm .\r\n",
            "rebecca will provide the necessary information to relocation upon confirmation .\r\n",
            "lloyd , marc would like his ima before august 31 , if possible .\r\n",
            "regards ,\n",
            "\n",
            "\n",
            "Class Label: 0\n",
            "Mail: \n",
            "Subject: re : a friend of mine\r\n",
            "vince ,\r\n",
            "thank you very much for the follow up report . i am sure richard will be very\r\n",
            "enthusiastic about the opportunity to speak with you and your team . i\r\n",
            "appreciate your help , and please feel free to contact me if you or shirley\r\n",
            "need assistance with logistics .\r\n",
            "again , thank you and i look forward to working with you again this recruiting\r\n",
            "season .\r\n",
            "regards ,\r\n",
            "kristin\r\n",
            "- - - - - original message - - - - -\r\n",
            "from : kaminski , vince\r\n",
            "sent : wednesday , may 02 , 2001 8 : 27 am\r\n",
            "to : gandy , kristin\r\n",
            "subject : re : a friend of mine\r\n",
            "kristin ,\r\n",
            "thanks a lot for the resume .\r\n",
            "we shall arrange a phone interview with richard . this is out standard\r\n",
            "procedure .\r\n",
            "a phone interview is followed by the on - site interview , after we determine\r\n",
            "what is the best team to interview\r\n",
            "the candidate .\r\n",
            "vince\r\n",
            "from : kristin gandy / enron @ enronxgate on 05 / 01 / 2001 05 : 14 pm\r\n",
            "to : vince j kaminski / hou / ect @ ect\r\n",
            "cc :\r\n",
            "subject : a friend of mine\r\n",
            "vince ,\r\n",
            "last week i was contacted by one of my friends who is very interested in\r\n",
            "becoming an enron employee . he has a phd and several years research and lab\r\n",
            "experience .\r\n",
            "richard is afraid that being a phd is a dying breed and may need to go back\r\n",
            "to school to obtain an mba . i was wondering if you would mind looking at the\r\n",
            "attached resume to assess if you have any interest in richard , or if you feel\r\n",
            "i should encourage him to go back to school . i am unclear as to the\r\n",
            "qualifications for your group so i apologize if this request is way off base .\r\n",
            "thank you for your help ,\r\n",
            "kristin gandy\r\n",
            "associate recruiter\r\n",
            "enron corporation\r\n",
            "1400 smith street eb 1163\r\n",
            "houston , texas 77002\r\n",
            "713 - 345 - 3214\r\n",
            "kristin . gandy @ enron . com\r\n",
            ">\n",
            "\n",
            "\n"
          ],
          "name": "stdout"
        }
      ]
    },
    {
      "cell_type": "code",
      "metadata": {
        "colab": {
          "base_uri": "https://localhost:8080/",
          "height": 297
        },
        "id": "tCiO6c_3vzfv",
        "outputId": "04f93897-cadc-4e77-b747-cdfc076486cf"
      },
      "source": [
        "df[[\"contents\", \"y\"]].describe()"
      ],
      "execution_count": 173,
      "outputs": [
        {
          "output_type": "execute_result",
          "data": {
            "text/html": [
              "<div>\n",
              "<style scoped>\n",
              "    .dataframe tbody tr th:only-of-type {\n",
              "        vertical-align: middle;\n",
              "    }\n",
              "\n",
              "    .dataframe tbody tr th {\n",
              "        vertical-align: top;\n",
              "    }\n",
              "\n",
              "    .dataframe thead th {\n",
              "        text-align: right;\n",
              "    }\n",
              "</style>\n",
              "<table border=\"1\" class=\"dataframe\">\n",
              "  <thead>\n",
              "    <tr style=\"text-align: right;\">\n",
              "      <th></th>\n",
              "      <th>y</th>\n",
              "    </tr>\n",
              "  </thead>\n",
              "  <tbody>\n",
              "    <tr>\n",
              "      <th>count</th>\n",
              "      <td>8878.000000</td>\n",
              "    </tr>\n",
              "    <tr>\n",
              "      <th>mean</th>\n",
              "      <td>0.019261</td>\n",
              "    </tr>\n",
              "    <tr>\n",
              "      <th>std</th>\n",
              "      <td>0.137449</td>\n",
              "    </tr>\n",
              "    <tr>\n",
              "      <th>min</th>\n",
              "      <td>0.000000</td>\n",
              "    </tr>\n",
              "    <tr>\n",
              "      <th>25%</th>\n",
              "      <td>0.000000</td>\n",
              "    </tr>\n",
              "    <tr>\n",
              "      <th>50%</th>\n",
              "      <td>0.000000</td>\n",
              "    </tr>\n",
              "    <tr>\n",
              "      <th>75%</th>\n",
              "      <td>0.000000</td>\n",
              "    </tr>\n",
              "    <tr>\n",
              "      <th>max</th>\n",
              "      <td>1.000000</td>\n",
              "    </tr>\n",
              "  </tbody>\n",
              "</table>\n",
              "</div>"
            ],
            "text/plain": [
              "                 y\n",
              "count  8878.000000\n",
              "mean      0.019261\n",
              "std       0.137449\n",
              "min       0.000000\n",
              "25%       0.000000\n",
              "50%       0.000000\n",
              "75%       0.000000\n",
              "max       1.000000"
            ]
          },
          "metadata": {
            "tags": []
          },
          "execution_count": 173
        }
      ]
    },
    {
      "cell_type": "code",
      "metadata": {
        "colab": {
          "base_uri": "https://localhost:8080/"
        },
        "id": "8khlblhHeqZy",
        "outputId": "6add2e7a-b6a1-47b7-b18d-2a67a27379b1"
      },
      "source": [
        "import nltk\n",
        "nltk.download('stopwords')"
      ],
      "execution_count": 174,
      "outputs": [
        {
          "output_type": "stream",
          "text": [
            "[nltk_data] Downloading package stopwords to /root/nltk_data...\n",
            "[nltk_data]   Package stopwords is already up-to-date!\n"
          ],
          "name": "stdout"
        },
        {
          "output_type": "execute_result",
          "data": {
            "text/plain": [
              "True"
            ]
          },
          "metadata": {
            "tags": []
          },
          "execution_count": 174
        }
      ]
    },
    {
      "cell_type": "code",
      "metadata": {
        "id": "oPjAM2qnZ5Et"
      },
      "source": [
        "stop = set(stopwords.words(\"english\"))\n",
        "\n",
        "# string.punctuation = ['!\"#$%&\\'()*+,-./:;<=>?@[\\\\]^_`{|}~']\n",
        "punctuation = list(string.punctuation)\n",
        "\n",
        "# 手動で追加\n",
        "org_stop = [\"Subject\"]\n",
        "\n",
        "# stopwordsの定義更新\n",
        "add_stop = punctuation + org_stop\n",
        "stop.update(add_stop)"
      ],
      "execution_count": 175,
      "outputs": []
    },
    {
      "cell_type": "code",
      "metadata": {
        "id": "IB4g5TV_zvQG",
        "colab": {
          "base_uri": "https://localhost:8080/"
        },
        "outputId": "a2e503c4-e0fc-4d7e-b7e4-31c9d94ebfa6"
      },
      "source": [
        "stop"
      ],
      "execution_count": 176,
      "outputs": [
        {
          "output_type": "execute_result",
          "data": {
            "text/plain": [
              "{'!',\n",
              " '\"',\n",
              " '#',\n",
              " '$',\n",
              " '%',\n",
              " '&',\n",
              " \"'\",\n",
              " '(',\n",
              " ')',\n",
              " '*',\n",
              " '+',\n",
              " ',',\n",
              " '-',\n",
              " '.',\n",
              " '/',\n",
              " ':',\n",
              " ';',\n",
              " '<',\n",
              " '=',\n",
              " '>',\n",
              " '?',\n",
              " '@',\n",
              " 'Subject',\n",
              " '[',\n",
              " '\\\\',\n",
              " ']',\n",
              " '^',\n",
              " '_',\n",
              " '`',\n",
              " 'a',\n",
              " 'about',\n",
              " 'above',\n",
              " 'after',\n",
              " 'again',\n",
              " 'against',\n",
              " 'ain',\n",
              " 'all',\n",
              " 'am',\n",
              " 'an',\n",
              " 'and',\n",
              " 'any',\n",
              " 'are',\n",
              " 'aren',\n",
              " \"aren't\",\n",
              " 'as',\n",
              " 'at',\n",
              " 'be',\n",
              " 'because',\n",
              " 'been',\n",
              " 'before',\n",
              " 'being',\n",
              " 'below',\n",
              " 'between',\n",
              " 'both',\n",
              " 'but',\n",
              " 'by',\n",
              " 'can',\n",
              " 'couldn',\n",
              " \"couldn't\",\n",
              " 'd',\n",
              " 'did',\n",
              " 'didn',\n",
              " \"didn't\",\n",
              " 'do',\n",
              " 'does',\n",
              " 'doesn',\n",
              " \"doesn't\",\n",
              " 'doing',\n",
              " 'don',\n",
              " \"don't\",\n",
              " 'down',\n",
              " 'during',\n",
              " 'each',\n",
              " 'few',\n",
              " 'for',\n",
              " 'from',\n",
              " 'further',\n",
              " 'had',\n",
              " 'hadn',\n",
              " \"hadn't\",\n",
              " 'has',\n",
              " 'hasn',\n",
              " \"hasn't\",\n",
              " 'have',\n",
              " 'haven',\n",
              " \"haven't\",\n",
              " 'having',\n",
              " 'he',\n",
              " 'her',\n",
              " 'here',\n",
              " 'hers',\n",
              " 'herself',\n",
              " 'him',\n",
              " 'himself',\n",
              " 'his',\n",
              " 'how',\n",
              " 'i',\n",
              " 'if',\n",
              " 'in',\n",
              " 'into',\n",
              " 'is',\n",
              " 'isn',\n",
              " \"isn't\",\n",
              " 'it',\n",
              " \"it's\",\n",
              " 'its',\n",
              " 'itself',\n",
              " 'just',\n",
              " 'll',\n",
              " 'm',\n",
              " 'ma',\n",
              " 'me',\n",
              " 'mightn',\n",
              " \"mightn't\",\n",
              " 'more',\n",
              " 'most',\n",
              " 'mustn',\n",
              " \"mustn't\",\n",
              " 'my',\n",
              " 'myself',\n",
              " 'needn',\n",
              " \"needn't\",\n",
              " 'no',\n",
              " 'nor',\n",
              " 'not',\n",
              " 'now',\n",
              " 'o',\n",
              " 'of',\n",
              " 'off',\n",
              " 'on',\n",
              " 'once',\n",
              " 'only',\n",
              " 'or',\n",
              " 'other',\n",
              " 'our',\n",
              " 'ours',\n",
              " 'ourselves',\n",
              " 'out',\n",
              " 'over',\n",
              " 'own',\n",
              " 're',\n",
              " 's',\n",
              " 'same',\n",
              " 'shan',\n",
              " \"shan't\",\n",
              " 'she',\n",
              " \"she's\",\n",
              " 'should',\n",
              " \"should've\",\n",
              " 'shouldn',\n",
              " \"shouldn't\",\n",
              " 'so',\n",
              " 'some',\n",
              " 'such',\n",
              " 't',\n",
              " 'than',\n",
              " 'that',\n",
              " \"that'll\",\n",
              " 'the',\n",
              " 'their',\n",
              " 'theirs',\n",
              " 'them',\n",
              " 'themselves',\n",
              " 'then',\n",
              " 'there',\n",
              " 'these',\n",
              " 'they',\n",
              " 'this',\n",
              " 'those',\n",
              " 'through',\n",
              " 'to',\n",
              " 'too',\n",
              " 'under',\n",
              " 'until',\n",
              " 'up',\n",
              " 've',\n",
              " 'very',\n",
              " 'was',\n",
              " 'wasn',\n",
              " \"wasn't\",\n",
              " 'we',\n",
              " 'were',\n",
              " 'weren',\n",
              " \"weren't\",\n",
              " 'what',\n",
              " 'when',\n",
              " 'where',\n",
              " 'which',\n",
              " 'while',\n",
              " 'who',\n",
              " 'whom',\n",
              " 'why',\n",
              " 'will',\n",
              " 'with',\n",
              " 'won',\n",
              " \"won't\",\n",
              " 'wouldn',\n",
              " \"wouldn't\",\n",
              " 'y',\n",
              " 'you',\n",
              " \"you'd\",\n",
              " \"you'll\",\n",
              " \"you're\",\n",
              " \"you've\",\n",
              " 'your',\n",
              " 'yours',\n",
              " 'yourself',\n",
              " 'yourselves',\n",
              " '{',\n",
              " '|',\n",
              " '}',\n",
              " '~'}"
            ]
          },
          "metadata": {
            "tags": []
          },
          "execution_count": 176
        }
      ]
    },
    {
      "cell_type": "code",
      "metadata": {
        "id": "qX0rALzYZ7IH"
      },
      "source": [
        "# htmlの分割\n",
        "def strip_html(text):\n",
        "    soup = BeautifulSoup(text, \"html.parser\")\n",
        "    return soup.get_text()\n",
        "\n",
        "# []で囲まれた文章の削除（脚注、linkなど）\n",
        "def remove_between_square_brackets(text):\n",
        "    return re.sub('\\[[^]]*\\]', '', text)\n",
        "\n",
        "# URLの削除\n",
        "def remove_between_square_brackets(text):\n",
        "    return re.sub(r'http\\S+', '', text)\n",
        "\n",
        "# stopwordsの削除\n",
        "def remove_stopwords(text):\n",
        "    final_text = []\n",
        "    for i in text.split():\n",
        "        if i.strip().lower() not in stop:\n",
        "            if i.strip().isalpha():\n",
        "                final_text.append(i.strip())\n",
        "    return \" \".join(final_text)\n",
        "\n",
        "\n",
        "# ↑の関数をまとめて適用する関数\n",
        "def denoise_text(text):\n",
        "    text = strip_html(text)\n",
        "    text = remove_between_square_brackets(text)\n",
        "    text = remove_stopwords(text)\n",
        "    return text\n",
        "\n",
        "# ↑の関数の適用\n",
        "df['contents']=df['contents'].apply(denoise_text)"
      ],
      "execution_count": 177,
      "outputs": []
    },
    {
      "cell_type": "code",
      "metadata": {
        "colab": {
          "base_uri": "https://localhost:8080/",
          "height": 350
        },
        "id": "LZDq2HnZZ9UT",
        "outputId": "2bf85691-0b2e-4fd6-81cc-c53ed48c4ff7"
      },
      "source": [
        "sns.countplot(df[\"y\"])"
      ],
      "execution_count": 178,
      "outputs": [
        {
          "output_type": "stream",
          "text": [
            "/usr/local/lib/python3.6/dist-packages/seaborn/_decorators.py:43: FutureWarning: Pass the following variable as a keyword arg: x. From version 0.12, the only valid positional argument will be `data`, and passing other arguments without an explicit keyword will result in an error or misinterpretation.\n",
            "  FutureWarning\n"
          ],
          "name": "stderr"
        },
        {
          "output_type": "execute_result",
          "data": {
            "text/plain": [
              "<matplotlib.axes._subplots.AxesSubplot at 0x7f18384276a0>"
            ]
          },
          "metadata": {
            "tags": []
          },
          "execution_count": 178
        },
        {
          "output_type": "display_data",
          "data": {
            "image/png": "[encoded data removed]",
            "text/plain": [
              "<Figure size 432x288 with 1 Axes>"
            ]
          },
          "metadata": {
            "tags": [],
            "needs_background": "light"
          }
        }
      ]
    },
    {
      "cell_type": "code",
      "metadata": {
        "colab": {
          "base_uri": "https://localhost:8080/",
          "height": 35
        },
        "id": "BLgIgHDkZ_Kf",
        "outputId": "e49bc87f-da2d-4f60-fc39-93b223fbcf5d"
      },
      "source": [
        "''' # 非spam\n",
        "plt.figure(figsize=(20,20))\n",
        "wc = WordCloud(max_words = 2000, width = 1600, height = 800, stopwords = STOPWORDS).generate(\" \".join(df[df.y == 0].contents))\n",
        "plt.imshow(wc, interpolation=\"bilinear\") '''"
      ],
      "execution_count": 179,
      "outputs": [
        {
          "output_type": "execute_result",
          "data": {
            "application/vnd.google.colaboratory.intrinsic+json": {
              "type": "string"
            },
            "text/plain": [
              "' # 非spam\\nplt.figure(figsize=(20,20))\\nwc = WordCloud(max_words = 2000, width = 1600, height = 800, stopwords = STOPWORDS).generate(\" \".join(df[df.y == 0].contents))\\nplt.imshow(wc, interpolation=\"bilinear\") '"
            ]
          },
          "metadata": {
            "tags": []
          },
          "execution_count": 179
        }
      ]
    },
    {
      "cell_type": "code",
      "metadata": {
        "colab": {
          "base_uri": "https://localhost:8080/",
          "height": 35
        },
        "id": "DlV5RQTLaBGu",
        "outputId": "2f869be8-2f5a-473e-c685-ba557c9303e7"
      },
      "source": [
        "''' # spam\n",
        "plt.figure(figsize=(20,20))\n",
        "wc = WordCloud(max_words = 2000, width = 1600, height = 800, stopwords = STOPWORDS).generate(\" \".join(df[df.y == 1].contents))\n",
        "plt.imshow(wc, interpolation=\"bilinear\") '''"
      ],
      "execution_count": 180,
      "outputs": [
        {
          "output_type": "execute_result",
          "data": {
            "application/vnd.google.colaboratory.intrinsic+json": {
              "type": "string"
            },
            "text/plain": [
              "' # spam\\nplt.figure(figsize=(20,20))\\nwc = WordCloud(max_words = 2000, width = 1600, height = 800, stopwords = STOPWORDS).generate(\" \".join(df[df.y == 1].contents))\\nplt.imshow(wc, interpolation=\"bilinear\") '"
            ]
          },
          "metadata": {
            "tags": []
          },
          "execution_count": 180
        }
      ]
    },
    {
      "cell_type": "code",
      "metadata": {
        "colab": {
          "base_uri": "https://localhost:8080/",
          "height": 204
        },
        "id": "WkqnvVojaD5l",
        "outputId": "b6292b60-a3dd-492c-fbd7-fb5859feb615"
      },
      "source": [
        "df[\"length\"] = df[\"contents\"].apply(len)\n",
        "df.head()"
      ],
      "execution_count": 181,
      "outputs": [
        {
          "output_type": "execute_result",
          "data": {
            "text/html": [
              "<div>\n",
              "<style scoped>\n",
              "    .dataframe tbody tr th:only-of-type {\n",
              "        vertical-align: middle;\n",
              "    }\n",
              "\n",
              "    .dataframe tbody tr th {\n",
              "        vertical-align: top;\n",
              "    }\n",
              "\n",
              "    .dataframe thead th {\n",
              "        text-align: right;\n",
              "    }\n",
              "</style>\n",
              "<table border=\"1\" class=\"dataframe\">\n",
              "  <thead>\n",
              "    <tr style=\"text-align: right;\">\n",
              "      <th></th>\n",
              "      <th>id</th>\n",
              "      <th>contents</th>\n",
              "      <th>y</th>\n",
              "      <th>length</th>\n",
              "    </tr>\n",
              "  </thead>\n",
              "  <tbody>\n",
              "    <tr>\n",
              "      <th>0</th>\n",
              "      <td>1</td>\n",
              "      <td>fw willis phillips spoke lavo said thing plann...</td>\n",
              "      <td>0</td>\n",
              "      <td>258</td>\n",
              "    </tr>\n",
              "    <tr>\n",
              "      <th>1</th>\n",
              "      <td>2</td>\n",
              "      <td>factor loadings primary curves tanya went comp...</td>\n",
              "      <td>0</td>\n",
              "      <td>1007</td>\n",
              "    </tr>\n",
              "    <tr>\n",
              "      <th>2</th>\n",
              "      <td>3</td>\n",
              "      <td>meridian phone kate symes bill done mid aftern...</td>\n",
              "      <td>0</td>\n",
              "      <td>254</td>\n",
              "    </tr>\n",
              "    <tr>\n",
              "      <th>3</th>\n",
              "      <td>4</td>\n",
              "      <td>october wellhead vance deal created entered si...</td>\n",
              "      <td>0</td>\n",
              "      <td>365</td>\n",
              "    </tr>\n",
              "    <tr>\n",
              "      <th>4</th>\n",
              "      <td>5</td>\n",
              "      <td>california executive summary cpuc rules socal ...</td>\n",
              "      <td>0</td>\n",
              "      <td>2130</td>\n",
              "    </tr>\n",
              "  </tbody>\n",
              "</table>\n",
              "</div>"
            ],
            "text/plain": [
              "   id                                           contents  y  length\n",
              "0   1  fw willis phillips spoke lavo said thing plann...  0     258\n",
              "1   2  factor loadings primary curves tanya went comp...  0    1007\n",
              "2   3  meridian phone kate symes bill done mid aftern...  0     254\n",
              "3   4  october wellhead vance deal created entered si...  0     365\n",
              "4   5  california executive summary cpuc rules socal ...  0    2130"
            ]
          },
          "metadata": {
            "tags": []
          },
          "execution_count": 181
        }
      ]
    },
    {
      "cell_type": "code",
      "metadata": {
        "colab": {
          "base_uri": "https://localhost:8080/",
          "height": 52
        },
        "id": "Ah2MQlVYaFs_",
        "outputId": "9498b998-0bc8-4a94-d2a9-67d9a136297b"
      },
      "source": [
        "''' fig,ax = plt.subplots(1,2,figsize=(12,4))\n",
        "\n",
        "df[df[\"y\"]==0].hist(column=\"length\", bins=2500, ax=ax[0], color = \"green\")\n",
        "ax[0].set(xlabel = \"Length Class\", ylabel = \"Frequency\", title = \"not spam\")\n",
        "ax[0].set_xlim([0,12000])\n",
        "\n",
        "df[df[\"y\"]==1].hist(column=\"length\", bins=50, ax=ax[1], color = \"red\")\n",
        "ax[1].set(xlabel = \"Length Class\", ylabel = \"Frequency\", title = \"spam\")\n",
        "\n",
        "plt.show() '''"
      ],
      "execution_count": 182,
      "outputs": [
        {
          "output_type": "execute_result",
          "data": {
            "application/vnd.google.colaboratory.intrinsic+json": {
              "type": "string"
            },
            "text/plain": [
              "' fig,ax = plt.subplots(1,2,figsize=(12,4))\\n\\ndf[df[\"y\"]==0].hist(column=\"length\", bins=2500, ax=ax[0], color = \"green\")\\nax[0].set(xlabel = \"Length Class\", ylabel = \"Frequency\", title = \"not spam\")\\nax[0].set_xlim([0,12000])\\n\\ndf[df[\"y\"]==1].hist(column=\"length\", bins=50, ax=ax[1], color = \"red\")\\nax[1].set(xlabel = \"Length Class\", ylabel = \"Frequency\", title = \"spam\")\\n\\nplt.show() '"
            ]
          },
          "metadata": {
            "tags": []
          },
          "execution_count": 182
        }
      ]
    },
    {
      "cell_type": "code",
      "metadata": {
        "colab": {
          "base_uri": "https://localhost:8080/"
        },
        "id": "Bh81RdbyaHTM",
        "outputId": "de07b580-3fa4-4f45-d313-ea48dd20e005"
      },
      "source": [
        "# 文章の長さの差を数値でも確認\n",
        "df.groupby(\"y\")[\"length\"].mean()"
      ],
      "execution_count": 183,
      "outputs": [
        {
          "output_type": "execute_result",
          "data": {
            "text/plain": [
              "y\n",
              "0    1075.788331\n",
              "1     811.578947\n",
              "Name: length, dtype: float64"
            ]
          },
          "metadata": {
            "tags": []
          },
          "execution_count": 183
        }
      ]
    },
    {
      "cell_type": "code",
      "metadata": {
        "colab": {
          "base_uri": "https://localhost:8080/",
          "height": 204
        },
        "id": "89a5KhqcaI5X",
        "outputId": "6f77911b-7d09-41ed-de0c-d94fa1cd65c4"
      },
      "source": [
        "df[\"words\"] = df[\"contents\"].str.split().map(lambda x: len(x))\n",
        "df.head()"
      ],
      "execution_count": 184,
      "outputs": [
        {
          "output_type": "execute_result",
          "data": {
            "text/html": [
              "<div>\n",
              "<style scoped>\n",
              "    .dataframe tbody tr th:only-of-type {\n",
              "        vertical-align: middle;\n",
              "    }\n",
              "\n",
              "    .dataframe tbody tr th {\n",
              "        vertical-align: top;\n",
              "    }\n",
              "\n",
              "    .dataframe thead th {\n",
              "        text-align: right;\n",
              "    }\n",
              "</style>\n",
              "<table border=\"1\" class=\"dataframe\">\n",
              "  <thead>\n",
              "    <tr style=\"text-align: right;\">\n",
              "      <th></th>\n",
              "      <th>id</th>\n",
              "      <th>contents</th>\n",
              "      <th>y</th>\n",
              "      <th>length</th>\n",
              "      <th>words</th>\n",
              "    </tr>\n",
              "  </thead>\n",
              "  <tbody>\n",
              "    <tr>\n",
              "      <th>0</th>\n",
              "      <td>1</td>\n",
              "      <td>fw willis phillips spoke lavo said thing plann...</td>\n",
              "      <td>0</td>\n",
              "      <td>258</td>\n",
              "      <td>41</td>\n",
              "    </tr>\n",
              "    <tr>\n",
              "      <th>1</th>\n",
              "      <td>2</td>\n",
              "      <td>factor loadings primary curves tanya went comp...</td>\n",
              "      <td>0</td>\n",
              "      <td>1007</td>\n",
              "      <td>153</td>\n",
              "    </tr>\n",
              "    <tr>\n",
              "      <th>2</th>\n",
              "      <td>3</td>\n",
              "      <td>meridian phone kate symes bill done mid aftern...</td>\n",
              "      <td>0</td>\n",
              "      <td>254</td>\n",
              "      <td>39</td>\n",
              "    </tr>\n",
              "    <tr>\n",
              "      <th>3</th>\n",
              "      <td>4</td>\n",
              "      <td>october wellhead vance deal created entered si...</td>\n",
              "      <td>0</td>\n",
              "      <td>365</td>\n",
              "      <td>58</td>\n",
              "    </tr>\n",
              "    <tr>\n",
              "      <th>4</th>\n",
              "      <td>5</td>\n",
              "      <td>california executive summary cpuc rules socal ...</td>\n",
              "      <td>0</td>\n",
              "      <td>2130</td>\n",
              "      <td>286</td>\n",
              "    </tr>\n",
              "  </tbody>\n",
              "</table>\n",
              "</div>"
            ],
            "text/plain": [
              "   id                                           contents  y  length  words\n",
              "0   1  fw willis phillips spoke lavo said thing plann...  0     258     41\n",
              "1   2  factor loadings primary curves tanya went comp...  0    1007    153\n",
              "2   3  meridian phone kate symes bill done mid aftern...  0     254     39\n",
              "3   4  october wellhead vance deal created entered si...  0     365     58\n",
              "4   5  california executive summary cpuc rules socal ...  0    2130    286"
            ]
          },
          "metadata": {
            "tags": []
          },
          "execution_count": 184
        }
      ]
    },
    {
      "cell_type": "code",
      "metadata": {
        "colab": {
          "base_uri": "https://localhost:8080/",
          "height": 52
        },
        "id": "Q_7UuB87aKio",
        "outputId": "23c19829-4160-47b3-f90e-89a22593e235"
      },
      "source": [
        "''' fig,ax = plt.subplots(1,2,figsize=(12,4))\n",
        "\n",
        "df[df[\"y\"]==0].hist(column=\"words\", bins=2500, ax=ax[0], color = \"green\")\n",
        "ax[0].set(xlabel = \"words Class\", ylabel = \"Frequency\", title = \"not spam\")\n",
        "ax[0].set_xlim([0,1200])\n",
        "\n",
        "df[df[\"y\"]==1].hist(column=\"words\", bins=50, ax=ax[1], color = \"red\")\n",
        "ax[1].set(xlabel = \"words Class\", ylabel = \"Frequency\", title = \"spam\")\n",
        "\n",
        "plt.show() '''"
      ],
      "execution_count": 185,
      "outputs": [
        {
          "output_type": "execute_result",
          "data": {
            "application/vnd.google.colaboratory.intrinsic+json": {
              "type": "string"
            },
            "text/plain": [
              "' fig,ax = plt.subplots(1,2,figsize=(12,4))\\n\\ndf[df[\"y\"]==0].hist(column=\"words\", bins=2500, ax=ax[0], color = \"green\")\\nax[0].set(xlabel = \"words Class\", ylabel = \"Frequency\", title = \"not spam\")\\nax[0].set_xlim([0,1200])\\n\\ndf[df[\"y\"]==1].hist(column=\"words\", bins=50, ax=ax[1], color = \"red\")\\nax[1].set(xlabel = \"words Class\", ylabel = \"Frequency\", title = \"spam\")\\n\\nplt.show() '"
            ]
          },
          "metadata": {
            "tags": []
          },
          "execution_count": 185
        }
      ]
    },
    {
      "cell_type": "code",
      "metadata": {
        "colab": {
          "base_uri": "https://localhost:8080/"
        },
        "id": "K9diNTpbaMHb",
        "outputId": "6e009914-2779-42a3-afd3-570b9aa60492"
      },
      "source": [
        "# 単語の多さの差を数値でも確認\n",
        "df.groupby(\"y\")[\"words\"].mean()"
      ],
      "execution_count": 186,
      "outputs": [
        {
          "output_type": "execute_result",
          "data": {
            "text/plain": [
              "y\n",
              "0    153.408407\n",
              "1    113.181287\n",
              "Name: words, dtype: float64"
            ]
          },
          "metadata": {
            "tags": []
          },
          "execution_count": 186
        }
      ]
    },
    {
      "cell_type": "code",
      "metadata": {
        "id": "ggg8b5c5aR0g"
      },
      "source": [
        "# trainデータを分割\n",
        "X = pd.DataFrame(df['contents'])\n",
        "y = pd.DataFrame(df['y'])"
      ],
      "execution_count": 187,
      "outputs": []
    },
    {
      "cell_type": "code",
      "metadata": {
        "colab": {
          "base_uri": "https://localhost:8080/"
        },
        "id": "lZNCH_QTaU8k",
        "outputId": "80aa0d32-163a-4200-f81a-9d43e845b20e"
      },
      "source": [
        "seed = [i for i in range(100)]\n",
        "preds = []\n",
        "num = int(len(y[y['y'] == 1])/1.2)\n",
        "# 0.46105882\n",
        "strategy = {0:round(num*0.46105882), 1:num}\n",
        "\n",
        "for i in seed:\n",
        "    # アンダーサンプリングしながら訓練用データの作成\n",
        "    sampler = RandomUnderSampler(random_state=i, sampling_strategy = strategy)\n",
        "    X_resampled, y_resampled = sampler.fit_resample(X,y)\n",
        "\n",
        "    # 検証用データの作成（random_stateを変えて取得）\n",
        "    sampler = RandomUnderSampler(random_state=i+10, sampling_strategy = strategy)\n",
        "    X_val, y_val = sampler.fit_resample(X,y)\n",
        "    \n",
        "    # 単語の出現回数取得\n",
        "    vec_count = CountVectorizer(min_df=3)\n",
        "    X_resampled = pd.DataFrame(X_resampled)\n",
        "    vec_count.fit(X_resampled[0])\n",
        "\n",
        "    # 単語の種類の表示\n",
        "    print('word size: ', len(vec_count.vocabulary_))\n",
        "    # 先頭５件の単語を表示\n",
        "    print('word content: ', dict(list(vec_count.vocabulary_.items())[0:5]))\n",
        "    \n",
        "    # 訓練データと検証データをベクトル化\n",
        "    X_resampled_vec = vec_count.transform(X_resampled[0])\n",
        "    X_val = pd.DataFrame(X_val)\n",
        "    X_val_vec = vec_count.transform(X_val[0])\n",
        "\n",
        "    # sm = SMOTE(random_state=42)\n",
        "    # X_resampled_vec, y_resampled = sm.fit_sample(X_resampled_vec, y_resampled)\n",
        "    \n",
        "    # ベルヌーイモデルで学習\n",
        "    model = MultinomialNB(alpha = 1.0)\n",
        "    y_resampled = pd.DataFrame(y_resampled)\n",
        "    model.fit(X_resampled_vec, y_resampled[0])\n",
        "\n",
        "    # F1スコアのprint\n",
        "    print(\"val_F1-score\",f1_score(model.predict(X_val_vec),y_val))\n",
        "    print(\"------------------------------------------------------------------------------------------------------------------\")\n",
        "    \n",
        "    # testデータをベクトル化\n",
        "    df_data = pd.DataFrame(test, columns=['contents'])\n",
        "    input_vec = vec_count.transform(df_data['contents'])\n",
        "\n",
        "    # testの予測→seed毎に空のリストに格納\n",
        "    pred = model.predict(input_vec)\n",
        "    preds.append(pred)"
      ],
      "execution_count": 189,
      "outputs": [
        {
          "output_type": "stream",
          "text": [
            "/usr/local/lib/python3.6/dist-packages/sklearn/utils/deprecation.py:87: FutureWarning: Function safe_indexing is deprecated; safe_indexing is deprecated in version 0.22 and will be removed in version 0.24.\n",
            "  warnings.warn(msg, category=FutureWarning)\n",
            "/usr/local/lib/python3.6/dist-packages/sklearn/utils/deprecation.py:87: FutureWarning: Function safe_indexing is deprecated; safe_indexing is deprecated in version 0.22 and will be removed in version 0.24.\n",
            "  warnings.warn(msg, category=FutureWarning)\n"
          ],
          "name": "stderr"
        },
        {
          "output_type": "stream",
          "text": [
            "word size:  1540\n",
            "word content:  {'request': 1149, 'access': 6, 'enron': 420, 'com': 222, 'received': 1118}\n",
            "val_F1-score 0.975609756097561\n",
            "------------------------------------------------------------------------------------------------------------------\n"
          ],
          "name": "stdout"
        },
        {
          "output_type": "stream",
          "text": [
            "/usr/local/lib/python3.6/dist-packages/sklearn/utils/deprecation.py:87: FutureWarning: Function safe_indexing is deprecated; safe_indexing is deprecated in version 0.22 and will be removed in version 0.24.\n",
            "  warnings.warn(msg, category=FutureWarning)\n",
            "/usr/local/lib/python3.6/dist-packages/sklearn/utils/deprecation.py:87: FutureWarning: Function safe_indexing is deprecated; safe_indexing is deprecated in version 0.22 and will be removed in version 0.24.\n",
            "  warnings.warn(msg, category=FutureWarning)\n"
          ],
          "name": "stderr"
        },
        {
          "output_type": "stream",
          "text": [
            "word size:  1413\n",
            "word content:  {'meeting': 758, 'vince': 1348, 'went': 1370, 'boring': 147, 'members': 761}\n",
            "val_F1-score 0.975609756097561\n",
            "------------------------------------------------------------------------------------------------------------------\n"
          ],
          "name": "stdout"
        },
        {
          "output_type": "stream",
          "text": [
            "/usr/local/lib/python3.6/dist-packages/sklearn/utils/deprecation.py:87: FutureWarning: Function safe_indexing is deprecated; safe_indexing is deprecated in version 0.22 and will be removed in version 0.24.\n",
            "  warnings.warn(msg, category=FutureWarning)\n",
            "/usr/local/lib/python3.6/dist-packages/sklearn/utils/deprecation.py:87: FutureWarning: Function safe_indexing is deprecated; safe_indexing is deprecated in version 0.22 and will be removed in version 0.24.\n",
            "  warnings.warn(msg, category=FutureWarning)\n"
          ],
          "name": "stderr"
        },
        {
          "output_type": "stream",
          "text": [
            "word size:  1890\n",
            "word content:  {'planning': 1237, 'energy': 534, 'finance': 636, 'class': 294, 'presentation': 1278}\n",
            "val_F1-score 0.9333333333333333\n",
            "------------------------------------------------------------------------------------------------------------------\n"
          ],
          "name": "stdout"
        },
        {
          "output_type": "stream",
          "text": [
            "/usr/local/lib/python3.6/dist-packages/sklearn/utils/deprecation.py:87: FutureWarning: Function safe_indexing is deprecated; safe_indexing is deprecated in version 0.22 and will be removed in version 0.24.\n",
            "  warnings.warn(msg, category=FutureWarning)\n",
            "/usr/local/lib/python3.6/dist-packages/sklearn/utils/deprecation.py:87: FutureWarning: Function safe_indexing is deprecated; safe_indexing is deprecated in version 0.22 and will be removed in version 0.24.\n",
            "  warnings.warn(msg, category=FutureWarning)\n"
          ],
          "name": "stderr"
        },
        {
          "output_type": "stream",
          "text": [
            "word size:  1402\n",
            "word content:  {'start': 1182, 'date': 293, 'hourahead': 545, 'hour': 544, 'ancillary': 66}\n",
            "val_F1-score 0.9788732394366197\n",
            "------------------------------------------------------------------------------------------------------------------\n"
          ],
          "name": "stdout"
        },
        {
          "output_type": "stream",
          "text": [
            "/usr/local/lib/python3.6/dist-packages/sklearn/utils/deprecation.py:87: FutureWarning: Function safe_indexing is deprecated; safe_indexing is deprecated in version 0.22 and will be removed in version 0.24.\n",
            "  warnings.warn(msg, category=FutureWarning)\n",
            "/usr/local/lib/python3.6/dist-packages/sklearn/utils/deprecation.py:87: FutureWarning: Function safe_indexing is deprecated; safe_indexing is deprecated in version 0.22 and will be removed in version 0.24.\n",
            "  warnings.warn(msg, category=FutureWarning)\n"
          ],
          "name": "stderr"
        },
        {
          "output_type": "stream",
          "text": [
            "word size:  1361\n",
            "word content:  {'fw': 473, 'tax': 1204, 'reserve': 1020, 'transaction': 1248, 'attached': 90}\n",
            "val_F1-score 0.979020979020979\n",
            "------------------------------------------------------------------------------------------------------------------\n"
          ],
          "name": "stdout"
        },
        {
          "output_type": "stream",
          "text": [
            "/usr/local/lib/python3.6/dist-packages/sklearn/utils/deprecation.py:87: FutureWarning: Function safe_indexing is deprecated; safe_indexing is deprecated in version 0.22 and will be removed in version 0.24.\n",
            "  warnings.warn(msg, category=FutureWarning)\n",
            "/usr/local/lib/python3.6/dist-packages/sklearn/utils/deprecation.py:87: FutureWarning: Function safe_indexing is deprecated; safe_indexing is deprecated in version 0.22 and will be removed in version 0.24.\n",
            "  warnings.warn(msg, category=FutureWarning)\n"
          ],
          "name": "stderr"
        },
        {
          "output_type": "stream",
          "text": [
            "word size:  1680\n",
            "word content:  {'open': 1013, 'season': 1327, 'package': 1039, 'expansion': 506, 'firm': 555}\n",
            "val_F1-score 0.9690721649484537\n",
            "------------------------------------------------------------------------------------------------------------------\n"
          ],
          "name": "stdout"
        },
        {
          "output_type": "stream",
          "text": [
            "/usr/local/lib/python3.6/dist-packages/sklearn/utils/deprecation.py:87: FutureWarning: Function safe_indexing is deprecated; safe_indexing is deprecated in version 0.22 and will be removed in version 0.24.\n",
            "  warnings.warn(msg, category=FutureWarning)\n",
            "/usr/local/lib/python3.6/dist-packages/sklearn/utils/deprecation.py:87: FutureWarning: Function safe_indexing is deprecated; safe_indexing is deprecated in version 0.22 and will be removed in version 0.24.\n",
            "  warnings.warn(msg, category=FutureWarning)\n"
          ],
          "name": "stderr"
        },
        {
          "output_type": "stream",
          "text": [
            "word size:  1312\n",
            "word content:  {'possible': 871, 'would': 1299, 'like': 606, 'another': 58, 'stay': 1123}\n",
            "val_F1-score 0.9722222222222222\n",
            "------------------------------------------------------------------------------------------------------------------\n"
          ],
          "name": "stdout"
        },
        {
          "output_type": "stream",
          "text": [
            "/usr/local/lib/python3.6/dist-packages/sklearn/utils/deprecation.py:87: FutureWarning: Function safe_indexing is deprecated; safe_indexing is deprecated in version 0.22 and will be removed in version 0.24.\n",
            "  warnings.warn(msg, category=FutureWarning)\n",
            "/usr/local/lib/python3.6/dist-packages/sklearn/utils/deprecation.py:87: FutureWarning: Function safe_indexing is deprecated; safe_indexing is deprecated in version 0.22 and will be removed in version 0.24.\n",
            "  warnings.warn(msg, category=FutureWarning)\n"
          ],
          "name": "stderr"
        },
        {
          "output_type": "stream",
          "text": [
            "word size:  1419\n",
            "word content:  {'people': 918, 'say': 1116, 'would': 1404, 'delete': 315, 'prior': 974}\n",
            "val_F1-score 0.9757785467128027\n",
            "------------------------------------------------------------------------------------------------------------------\n"
          ],
          "name": "stdout"
        },
        {
          "output_type": "stream",
          "text": [
            "/usr/local/lib/python3.6/dist-packages/sklearn/utils/deprecation.py:87: FutureWarning: Function safe_indexing is deprecated; safe_indexing is deprecated in version 0.22 and will be removed in version 0.24.\n",
            "  warnings.warn(msg, category=FutureWarning)\n",
            "/usr/local/lib/python3.6/dist-packages/sklearn/utils/deprecation.py:87: FutureWarning: Function safe_indexing is deprecated; safe_indexing is deprecated in version 0.22 and will be removed in version 0.24.\n",
            "  warnings.warn(msg, category=FutureWarning)\n"
          ],
          "name": "stderr"
        },
        {
          "output_type": "stream",
          "text": [
            "word size:  1626\n",
            "word content:  {'london': 806, 'fyi': 585, 'mentioned': 879, 'four': 571, 'next': 943}\n",
            "val_F1-score 0.9722222222222222\n",
            "------------------------------------------------------------------------------------------------------------------\n"
          ],
          "name": "stdout"
        },
        {
          "output_type": "stream",
          "text": [
            "/usr/local/lib/python3.6/dist-packages/sklearn/utils/deprecation.py:87: FutureWarning: Function safe_indexing is deprecated; safe_indexing is deprecated in version 0.22 and will be removed in version 0.24.\n",
            "  warnings.warn(msg, category=FutureWarning)\n",
            "/usr/local/lib/python3.6/dist-packages/sklearn/utils/deprecation.py:87: FutureWarning: Function safe_indexing is deprecated; safe_indexing is deprecated in version 0.22 and will be removed in version 0.24.\n",
            "  warnings.warn(msg, category=FutureWarning)\n"
          ],
          "name": "stderr"
        },
        {
          "output_type": "stream",
          "text": [
            "word size:  1408\n",
            "word content:  {'sap': 1098, 'training': 1289, 'statistics': 1210, 'good': 515, 'turn': 1302}\n",
            "val_F1-score 0.9690721649484537\n",
            "------------------------------------------------------------------------------------------------------------------\n"
          ],
          "name": "stdout"
        },
        {
          "output_type": "stream",
          "text": [
            "/usr/local/lib/python3.6/dist-packages/sklearn/utils/deprecation.py:87: FutureWarning: Function safe_indexing is deprecated; safe_indexing is deprecated in version 0.22 and will be removed in version 0.24.\n",
            "  warnings.warn(msg, category=FutureWarning)\n",
            "/usr/local/lib/python3.6/dist-packages/sklearn/utils/deprecation.py:87: FutureWarning: Function safe_indexing is deprecated; safe_indexing is deprecated in version 0.22 and will be removed in version 0.24.\n",
            "  warnings.warn(msg, category=FutureWarning)\n"
          ],
          "name": "stderr"
        },
        {
          "output_type": "stream",
          "text": [
            "word size:  1473\n",
            "word content:  {'flow': 475, 'volumes': 1408, 'meter': 783, 'sitara': 1212, 'bob': 150}\n",
            "val_F1-score 0.9624573378839592\n",
            "------------------------------------------------------------------------------------------------------------------\n"
          ],
          "name": "stdout"
        },
        {
          "output_type": "stream",
          "text": [
            "/usr/local/lib/python3.6/dist-packages/sklearn/utils/deprecation.py:87: FutureWarning: Function safe_indexing is deprecated; safe_indexing is deprecated in version 0.22 and will be removed in version 0.24.\n",
            "  warnings.warn(msg, category=FutureWarning)\n",
            "/usr/local/lib/python3.6/dist-packages/sklearn/utils/deprecation.py:87: FutureWarning: Function safe_indexing is deprecated; safe_indexing is deprecated in version 0.22 and will be removed in version 0.24.\n",
            "  warnings.warn(msg, category=FutureWarning)\n"
          ],
          "name": "stderr"
        },
        {
          "output_type": "stream",
          "text": [
            "word size:  1347\n",
            "word content:  {'also': 58, 'research': 1011, 'responsible': 1017, 'lot': 662, 'modeling': 735}\n",
            "val_F1-score 0.9754385964912281\n",
            "------------------------------------------------------------------------------------------------------------------\n"
          ],
          "name": "stdout"
        },
        {
          "output_type": "stream",
          "text": [
            "/usr/local/lib/python3.6/dist-packages/sklearn/utils/deprecation.py:87: FutureWarning: Function safe_indexing is deprecated; safe_indexing is deprecated in version 0.22 and will be removed in version 0.24.\n",
            "  warnings.warn(msg, category=FutureWarning)\n",
            "/usr/local/lib/python3.6/dist-packages/sklearn/utils/deprecation.py:87: FutureWarning: Function safe_indexing is deprecated; safe_indexing is deprecated in version 0.22 and will be removed in version 0.24.\n",
            "  warnings.warn(msg, category=FutureWarning)\n"
          ],
          "name": "stderr"
        },
        {
          "output_type": "stream",
          "text": [
            "word size:  1326\n",
            "word content:  {'nomination': 760, 'effective': 338, 'december': 283, 'mmbtu': 716, 'transaction': 1211}\n",
            "val_F1-score 0.9621993127147765\n",
            "------------------------------------------------------------------------------------------------------------------\n"
          ],
          "name": "stdout"
        },
        {
          "output_type": "stream",
          "text": [
            "/usr/local/lib/python3.6/dist-packages/sklearn/utils/deprecation.py:87: FutureWarning: Function safe_indexing is deprecated; safe_indexing is deprecated in version 0.22 and will be removed in version 0.24.\n",
            "  warnings.warn(msg, category=FutureWarning)\n",
            "/usr/local/lib/python3.6/dist-packages/sklearn/utils/deprecation.py:87: FutureWarning: Function safe_indexing is deprecated; safe_indexing is deprecated in version 0.22 and will be removed in version 0.24.\n",
            "  warnings.warn(msg, category=FutureWarning)\n"
          ],
          "name": "stderr"
        },
        {
          "output_type": "stream",
          "text": [
            "word size:  1362\n",
            "word content:  {'ena': 352, 'louise': 677, 'need': 773, 'bring': 147, 'close': 199}\n",
            "val_F1-score 0.9494949494949495\n",
            "------------------------------------------------------------------------------------------------------------------\n"
          ],
          "name": "stdout"
        },
        {
          "output_type": "stream",
          "text": [
            "/usr/local/lib/python3.6/dist-packages/sklearn/utils/deprecation.py:87: FutureWarning: Function safe_indexing is deprecated; safe_indexing is deprecated in version 0.22 and will be removed in version 0.24.\n",
            "  warnings.warn(msg, category=FutureWarning)\n",
            "/usr/local/lib/python3.6/dist-packages/sklearn/utils/deprecation.py:87: FutureWarning: Function safe_indexing is deprecated; safe_indexing is deprecated in version 0.22 and will be removed in version 0.24.\n",
            "  warnings.warn(msg, category=FutureWarning)\n"
          ],
          "name": "stderr"
        },
        {
          "output_type": "stream",
          "text": [
            "word size:  1384\n",
            "word content:  {'weekly': 1335, 'report': 1029, 'delivery': 310, 'monday': 751, 'please': 910}\n",
            "val_F1-score 0.9757785467128027\n",
            "------------------------------------------------------------------------------------------------------------------\n"
          ],
          "name": "stdout"
        },
        {
          "output_type": "stream",
          "text": [
            "/usr/local/lib/python3.6/dist-packages/sklearn/utils/deprecation.py:87: FutureWarning: Function safe_indexing is deprecated; safe_indexing is deprecated in version 0.22 and will be removed in version 0.24.\n",
            "  warnings.warn(msg, category=FutureWarning)\n",
            "/usr/local/lib/python3.6/dist-packages/sklearn/utils/deprecation.py:87: FutureWarning: Function safe_indexing is deprecated; safe_indexing is deprecated in version 0.22 and will be removed in version 0.24.\n",
            "  warnings.warn(msg, category=FutureWarning)\n"
          ],
          "name": "stderr"
        },
        {
          "output_type": "stream",
          "text": [
            "word size:  1375\n",
            "word content:  {'position': 934, 'manager': 728, 'transmission': 1264, 'schedule': 1085, 'system': 1204}\n",
            "val_F1-score 0.9791666666666666\n",
            "------------------------------------------------------------------------------------------------------------------\n"
          ],
          "name": "stdout"
        },
        {
          "output_type": "stream",
          "text": [
            "/usr/local/lib/python3.6/dist-packages/sklearn/utils/deprecation.py:87: FutureWarning: Function safe_indexing is deprecated; safe_indexing is deprecated in version 0.22 and will be removed in version 0.24.\n",
            "  warnings.warn(msg, category=FutureWarning)\n",
            "/usr/local/lib/python3.6/dist-packages/sklearn/utils/deprecation.py:87: FutureWarning: Function safe_indexing is deprecated; safe_indexing is deprecated in version 0.22 and will be removed in version 0.24.\n",
            "  warnings.warn(msg, category=FutureWarning)\n"
          ],
          "name": "stderr"
        },
        {
          "output_type": "stream",
          "text": [
            "word size:  1300\n",
            "word content:  {'operating': 771, 'standards': 1088, 'draft': 313, 'think': 1164, 'good': 459}\n",
            "val_F1-score 0.9860139860139859\n",
            "------------------------------------------------------------------------------------------------------------------\n"
          ],
          "name": "stdout"
        },
        {
          "output_type": "stream",
          "text": [
            "/usr/local/lib/python3.6/dist-packages/sklearn/utils/deprecation.py:87: FutureWarning: Function safe_indexing is deprecated; safe_indexing is deprecated in version 0.22 and will be removed in version 0.24.\n",
            "  warnings.warn(msg, category=FutureWarning)\n",
            "/usr/local/lib/python3.6/dist-packages/sklearn/utils/deprecation.py:87: FutureWarning: Function safe_indexing is deprecated; safe_indexing is deprecated in version 0.22 and will be removed in version 0.24.\n",
            "  warnings.warn(msg, category=FutureWarning)\n"
          ],
          "name": "stderr"
        },
        {
          "output_type": "stream",
          "text": [
            "word size:  1641\n",
            "word content:  {'meter': 915, 'new': 971, 'march': 880, 'confirmation': 284, 'cut': 340}\n",
            "val_F1-score 0.9559322033898304\n",
            "------------------------------------------------------------------------------------------------------------------\n"
          ],
          "name": "stdout"
        },
        {
          "output_type": "stream",
          "text": [
            "/usr/local/lib/python3.6/dist-packages/sklearn/utils/deprecation.py:87: FutureWarning: Function safe_indexing is deprecated; safe_indexing is deprecated in version 0.22 and will be removed in version 0.24.\n",
            "  warnings.warn(msg, category=FutureWarning)\n",
            "/usr/local/lib/python3.6/dist-packages/sklearn/utils/deprecation.py:87: FutureWarning: Function safe_indexing is deprecated; safe_indexing is deprecated in version 0.22 and will be removed in version 0.24.\n",
            "  warnings.warn(msg, category=FutureWarning)\n"
          ],
          "name": "stderr"
        },
        {
          "output_type": "stream",
          "text": [
            "word size:  1462\n",
            "word content:  {'louise': 741, 'federal': 473, 'competition': 244, 'commission': 233, 'told': 1332}\n",
            "val_F1-score 0.9621993127147765\n",
            "------------------------------------------------------------------------------------------------------------------\n"
          ],
          "name": "stdout"
        },
        {
          "output_type": "stream",
          "text": [
            "/usr/local/lib/python3.6/dist-packages/sklearn/utils/deprecation.py:87: FutureWarning: Function safe_indexing is deprecated; safe_indexing is deprecated in version 0.22 and will be removed in version 0.24.\n",
            "  warnings.warn(msg, category=FutureWarning)\n",
            "/usr/local/lib/python3.6/dist-packages/sklearn/utils/deprecation.py:87: FutureWarning: Function safe_indexing is deprecated; safe_indexing is deprecated in version 0.22 and will be removed in version 0.24.\n",
            "  warnings.warn(msg, category=FutureWarning)\n"
          ],
          "name": "stderr"
        },
        {
          "output_type": "stream",
          "text": [
            "word size:  1425\n",
            "word content:  {'louise': 697, 'spoke': 1206, 'talking': 1258, 'afternoon': 36, 'book': 153}\n",
            "val_F1-score 0.9754385964912281\n",
            "------------------------------------------------------------------------------------------------------------------\n"
          ],
          "name": "stdout"
        },
        {
          "output_type": "stream",
          "text": [
            "/usr/local/lib/python3.6/dist-packages/sklearn/utils/deprecation.py:87: FutureWarning: Function safe_indexing is deprecated; safe_indexing is deprecated in version 0.22 and will be removed in version 0.24.\n",
            "  warnings.warn(msg, category=FutureWarning)\n",
            "/usr/local/lib/python3.6/dist-packages/sklearn/utils/deprecation.py:87: FutureWarning: Function safe_indexing is deprecated; safe_indexing is deprecated in version 0.22 and will be removed in version 0.24.\n",
            "  warnings.warn(msg, category=FutureWarning)\n"
          ],
          "name": "stderr"
        },
        {
          "output_type": "stream",
          "text": [
            "word size:  1471\n",
            "word content:  {'analysis': 61, 'update': 1377, 'us': 1381, 'economic': 382, 'impact': 611}\n",
            "val_F1-score 0.9580419580419581\n",
            "------------------------------------------------------------------------------------------------------------------\n"
          ],
          "name": "stdout"
        },
        {
          "output_type": "stream",
          "text": [
            "/usr/local/lib/python3.6/dist-packages/sklearn/utils/deprecation.py:87: FutureWarning: Function safe_indexing is deprecated; safe_indexing is deprecated in version 0.22 and will be removed in version 0.24.\n",
            "  warnings.warn(msg, category=FutureWarning)\n",
            "/usr/local/lib/python3.6/dist-packages/sklearn/utils/deprecation.py:87: FutureWarning: Function safe_indexing is deprecated; safe_indexing is deprecated in version 0.22 and will be removed in version 0.24.\n",
            "  warnings.warn(msg, category=FutureWarning)\n"
          ],
          "name": "stderr"
        },
        {
          "output_type": "stream",
          "text": [
            "word size:  1655\n",
            "word content:  {'enron': 448, 'table': 1459, 'magazine': 831, 'new': 945, 'times': 1507}\n",
            "val_F1-score 0.9621993127147765\n",
            "------------------------------------------------------------------------------------------------------------------\n"
          ],
          "name": "stdout"
        },
        {
          "output_type": "stream",
          "text": [
            "/usr/local/lib/python3.6/dist-packages/sklearn/utils/deprecation.py:87: FutureWarning: Function safe_indexing is deprecated; safe_indexing is deprecated in version 0.22 and will be removed in version 0.24.\n",
            "  warnings.warn(msg, category=FutureWarning)\n",
            "/usr/local/lib/python3.6/dist-packages/sklearn/utils/deprecation.py:87: FutureWarning: Function safe_indexing is deprecated; safe_indexing is deprecated in version 0.22 and will be removed in version 0.24.\n",
            "  warnings.warn(msg, category=FutureWarning)\n"
          ],
          "name": "stderr"
        },
        {
          "output_type": "stream",
          "text": [
            "word size:  1403\n",
            "word content:  {'hpl': 557, 'hey': 539, 'help': 533, 'us': 1313, 'one': 830}\n",
            "val_F1-score 0.979020979020979\n",
            "------------------------------------------------------------------------------------------------------------------\n"
          ],
          "name": "stdout"
        },
        {
          "output_type": "stream",
          "text": [
            "/usr/local/lib/python3.6/dist-packages/sklearn/utils/deprecation.py:87: FutureWarning: Function safe_indexing is deprecated; safe_indexing is deprecated in version 0.22 and will be removed in version 0.24.\n",
            "  warnings.warn(msg, category=FutureWarning)\n",
            "/usr/local/lib/python3.6/dist-packages/sklearn/utils/deprecation.py:87: FutureWarning: Function safe_indexing is deprecated; safe_indexing is deprecated in version 0.22 and will be removed in version 0.24.\n",
            "  warnings.warn(msg, category=FutureWarning)\n"
          ],
          "name": "stderr"
        },
        {
          "output_type": "stream",
          "text": [
            "word size:  1370\n",
            "word content:  {'party': 853, 'agreement': 43, 'attached': 98, 'response': 1035, 'need': 776}\n",
            "val_F1-score 0.9726027397260273\n",
            "------------------------------------------------------------------------------------------------------------------\n"
          ],
          "name": "stdout"
        },
        {
          "output_type": "stream",
          "text": [
            "/usr/local/lib/python3.6/dist-packages/sklearn/utils/deprecation.py:87: FutureWarning: Function safe_indexing is deprecated; safe_indexing is deprecated in version 0.22 and will be removed in version 0.24.\n",
            "  warnings.warn(msg, category=FutureWarning)\n",
            "/usr/local/lib/python3.6/dist-packages/sklearn/utils/deprecation.py:87: FutureWarning: Function safe_indexing is deprecated; safe_indexing is deprecated in version 0.22 and will be removed in version 0.24.\n",
            "  warnings.warn(msg, category=FutureWarning)\n"
          ],
          "name": "stderr"
        },
        {
          "output_type": "stream",
          "text": [
            "word size:  1313\n",
            "word content:  {'schedule': 1029, 'hourahead': 528, 'failure': 419, 'start': 1109, 'date': 289}\n",
            "val_F1-score 0.9657534246575342\n",
            "------------------------------------------------------------------------------------------------------------------\n"
          ],
          "name": "stdout"
        },
        {
          "output_type": "stream",
          "text": [
            "/usr/local/lib/python3.6/dist-packages/sklearn/utils/deprecation.py:87: FutureWarning: Function safe_indexing is deprecated; safe_indexing is deprecated in version 0.22 and will be removed in version 0.24.\n",
            "  warnings.warn(msg, category=FutureWarning)\n",
            "/usr/local/lib/python3.6/dist-packages/sklearn/utils/deprecation.py:87: FutureWarning: Function safe_indexing is deprecated; safe_indexing is deprecated in version 0.22 and will be removed in version 0.24.\n",
            "  warnings.warn(msg, category=FutureWarning)\n"
          ],
          "name": "stderr"
        },
        {
          "output_type": "stream",
          "text": [
            "word size:  1613\n",
            "word content:  {'fw': 578, 'power': 1084, 'points': 1064, 'better': 156, 'luck': 811}\n",
            "val_F1-score 0.9619377162629758\n",
            "------------------------------------------------------------------------------------------------------------------\n"
          ],
          "name": "stdout"
        },
        {
          "output_type": "stream",
          "text": [
            "/usr/local/lib/python3.6/dist-packages/sklearn/utils/deprecation.py:87: FutureWarning: Function safe_indexing is deprecated; safe_indexing is deprecated in version 0.22 and will be removed in version 0.24.\n",
            "  warnings.warn(msg, category=FutureWarning)\n",
            "/usr/local/lib/python3.6/dist-packages/sklearn/utils/deprecation.py:87: FutureWarning: Function safe_indexing is deprecated; safe_indexing is deprecated in version 0.22 and will be removed in version 0.24.\n",
            "  warnings.warn(msg, category=FutureWarning)\n"
          ],
          "name": "stderr"
        },
        {
          "output_type": "stream",
          "text": [
            "word size:  1294\n",
            "word content:  {'hpl': 517, 'nom': 755, 'september': 1040, 'see': 1027, 'attached': 94}\n",
            "val_F1-score 0.9787234042553192\n",
            "------------------------------------------------------------------------------------------------------------------\n"
          ],
          "name": "stdout"
        },
        {
          "output_type": "stream",
          "text": [
            "/usr/local/lib/python3.6/dist-packages/sklearn/utils/deprecation.py:87: FutureWarning: Function safe_indexing is deprecated; safe_indexing is deprecated in version 0.22 and will be removed in version 0.24.\n",
            "  warnings.warn(msg, category=FutureWarning)\n",
            "/usr/local/lib/python3.6/dist-packages/sklearn/utils/deprecation.py:87: FutureWarning: Function safe_indexing is deprecated; safe_indexing is deprecated in version 0.22 and will be removed in version 0.24.\n",
            "  warnings.warn(msg, category=FutureWarning)\n"
          ],
          "name": "stderr"
        },
        {
          "output_type": "stream",
          "text": [
            "word size:  2185\n",
            "word content:  {'questions': 1564, 'hope': 904, 'gets': 822, 'mark': 1160, 'needs': 1260}\n",
            "val_F1-score 0.9591836734693879\n",
            "------------------------------------------------------------------------------------------------------------------\n"
          ],
          "name": "stdout"
        },
        {
          "output_type": "stream",
          "text": [
            "/usr/local/lib/python3.6/dist-packages/sklearn/utils/deprecation.py:87: FutureWarning: Function safe_indexing is deprecated; safe_indexing is deprecated in version 0.22 and will be removed in version 0.24.\n",
            "  warnings.warn(msg, category=FutureWarning)\n",
            "/usr/local/lib/python3.6/dist-packages/sklearn/utils/deprecation.py:87: FutureWarning: Function safe_indexing is deprecated; safe_indexing is deprecated in version 0.22 and will be removed in version 0.24.\n",
            "  warnings.warn(msg, category=FutureWarning)\n"
          ],
          "name": "stderr"
        },
        {
          "output_type": "stream",
          "text": [
            "word size:  1403\n",
            "word content:  {'houston': 563, 'dear': 294, 'vince': 1342, 'thanks': 1261, 'coming': 206}\n",
            "val_F1-score 0.9824561403508772\n",
            "------------------------------------------------------------------------------------------------------------------\n"
          ],
          "name": "stdout"
        },
        {
          "output_type": "stream",
          "text": [
            "/usr/local/lib/python3.6/dist-packages/sklearn/utils/deprecation.py:87: FutureWarning: Function safe_indexing is deprecated; safe_indexing is deprecated in version 0.22 and will be removed in version 0.24.\n",
            "  warnings.warn(msg, category=FutureWarning)\n",
            "/usr/local/lib/python3.6/dist-packages/sklearn/utils/deprecation.py:87: FutureWarning: Function safe_indexing is deprecated; safe_indexing is deprecated in version 0.22 and will be removed in version 0.24.\n",
            "  warnings.warn(msg, category=FutureWarning)\n"
          ],
          "name": "stderr"
        },
        {
          "output_type": "stream",
          "text": [
            "word size:  1271\n",
            "word content:  {'org': 773, 'today': 1152, 'meeting': 672, 'forwarded': 423, 'kevin': 569}\n",
            "val_F1-score 0.979020979020979\n",
            "------------------------------------------------------------------------------------------------------------------\n"
          ],
          "name": "stdout"
        },
        {
          "output_type": "stream",
          "text": [
            "/usr/local/lib/python3.6/dist-packages/sklearn/utils/deprecation.py:87: FutureWarning: Function safe_indexing is deprecated; safe_indexing is deprecated in version 0.22 and will be removed in version 0.24.\n",
            "  warnings.warn(msg, category=FutureWarning)\n",
            "/usr/local/lib/python3.6/dist-packages/sklearn/utils/deprecation.py:87: FutureWarning: Function safe_indexing is deprecated; safe_indexing is deprecated in version 0.22 and will be removed in version 0.24.\n",
            "  warnings.warn(msg, category=FutureWarning)\n"
          ],
          "name": "stderr"
        },
        {
          "output_type": "stream",
          "text": [
            "word size:  1576\n",
            "word content:  {'information': 678, 'email': 433, 'current': 328, 'notes': 929, 'user': 1499}\n",
            "val_F1-score 0.9690721649484537\n",
            "------------------------------------------------------------------------------------------------------------------\n"
          ],
          "name": "stdout"
        },
        {
          "output_type": "stream",
          "text": [
            "/usr/local/lib/python3.6/dist-packages/sklearn/utils/deprecation.py:87: FutureWarning: Function safe_indexing is deprecated; safe_indexing is deprecated in version 0.22 and will be removed in version 0.24.\n",
            "  warnings.warn(msg, category=FutureWarning)\n",
            "/usr/local/lib/python3.6/dist-packages/sklearn/utils/deprecation.py:87: FutureWarning: Function safe_indexing is deprecated; safe_indexing is deprecated in version 0.22 and will be removed in version 0.24.\n",
            "  warnings.warn(msg, category=FutureWarning)\n"
          ],
          "name": "stderr"
        },
        {
          "output_type": "stream",
          "text": [
            "word size:  1555\n",
            "word content:  {'desk': 357, 'deals': 342, 'cal': 184, 'deal': 341, 'entered': 440}\n",
            "val_F1-score 0.9583333333333334\n",
            "------------------------------------------------------------------------------------------------------------------\n"
          ],
          "name": "stdout"
        },
        {
          "output_type": "stream",
          "text": [
            "/usr/local/lib/python3.6/dist-packages/sklearn/utils/deprecation.py:87: FutureWarning: Function safe_indexing is deprecated; safe_indexing is deprecated in version 0.22 and will be removed in version 0.24.\n",
            "  warnings.warn(msg, category=FutureWarning)\n",
            "/usr/local/lib/python3.6/dist-packages/sklearn/utils/deprecation.py:87: FutureWarning: Function safe_indexing is deprecated; safe_indexing is deprecated in version 0.22 and will be removed in version 0.24.\n",
            "  warnings.warn(msg, category=FutureWarning)\n"
          ],
          "name": "stderr"
        },
        {
          "output_type": "stream",
          "text": [
            "word size:  1443\n",
            "word content:  {'fw': 499, 'thing': 1301, 'last': 664, 'week': 1399, 'seems': 1152}\n",
            "val_F1-score 0.9825783972125435\n",
            "------------------------------------------------------------------------------------------------------------------\n"
          ],
          "name": "stdout"
        },
        {
          "output_type": "stream",
          "text": [
            "/usr/local/lib/python3.6/dist-packages/sklearn/utils/deprecation.py:87: FutureWarning: Function safe_indexing is deprecated; safe_indexing is deprecated in version 0.22 and will be removed in version 0.24.\n",
            "  warnings.warn(msg, category=FutureWarning)\n",
            "/usr/local/lib/python3.6/dist-packages/sklearn/utils/deprecation.py:87: FutureWarning: Function safe_indexing is deprecated; safe_indexing is deprecated in version 0.22 and will be removed in version 0.24.\n",
            "  warnings.warn(msg, category=FutureWarning)\n"
          ],
          "name": "stderr"
        },
        {
          "output_type": "stream",
          "text": [
            "word size:  1352\n",
            "word content:  {'available': 106, 'firm': 446, 'capacity': 174, 'hi': 531, 'september': 1077}\n",
            "val_F1-score 0.9894736842105264\n",
            "------------------------------------------------------------------------------------------------------------------\n"
          ],
          "name": "stdout"
        },
        {
          "output_type": "stream",
          "text": [
            "/usr/local/lib/python3.6/dist-packages/sklearn/utils/deprecation.py:87: FutureWarning: Function safe_indexing is deprecated; safe_indexing is deprecated in version 0.22 and will be removed in version 0.24.\n",
            "  warnings.warn(msg, category=FutureWarning)\n",
            "/usr/local/lib/python3.6/dist-packages/sklearn/utils/deprecation.py:87: FutureWarning: Function safe_indexing is deprecated; safe_indexing is deprecated in version 0.22 and will be removed in version 0.24.\n",
            "  warnings.warn(msg, category=FutureWarning)\n"
          ],
          "name": "stderr"
        },
        {
          "output_type": "stream",
          "text": [
            "word size:  1420\n",
            "word content:  {'san': 1102, 'two': 1320, 'fran': 496, 'employees': 384, 'would': 1404}\n",
            "val_F1-score 0.9586206896551723\n",
            "------------------------------------------------------------------------------------------------------------------\n"
          ],
          "name": "stdout"
        },
        {
          "output_type": "stream",
          "text": [
            "/usr/local/lib/python3.6/dist-packages/sklearn/utils/deprecation.py:87: FutureWarning: Function safe_indexing is deprecated; safe_indexing is deprecated in version 0.22 and will be removed in version 0.24.\n",
            "  warnings.warn(msg, category=FutureWarning)\n",
            "/usr/local/lib/python3.6/dist-packages/sklearn/utils/deprecation.py:87: FutureWarning: Function safe_indexing is deprecated; safe_indexing is deprecated in version 0.22 and will be removed in version 0.24.\n",
            "  warnings.warn(msg, category=FutureWarning)\n"
          ],
          "name": "stderr"
        },
        {
          "output_type": "stream",
          "text": [
            "word size:  1501\n",
            "word content:  {'california': 171, 'update': 1406, 'ferc': 469, 'price': 1008, 'reported': 1119}\n",
            "val_F1-score 0.9624573378839592\n",
            "------------------------------------------------------------------------------------------------------------------\n"
          ],
          "name": "stdout"
        },
        {
          "output_type": "stream",
          "text": [
            "/usr/local/lib/python3.6/dist-packages/sklearn/utils/deprecation.py:87: FutureWarning: Function safe_indexing is deprecated; safe_indexing is deprecated in version 0.22 and will be removed in version 0.24.\n",
            "  warnings.warn(msg, category=FutureWarning)\n",
            "/usr/local/lib/python3.6/dist-packages/sklearn/utils/deprecation.py:87: FutureWarning: Function safe_indexing is deprecated; safe_indexing is deprecated in version 0.22 and will be removed in version 0.24.\n",
            "  warnings.warn(msg, category=FutureWarning)\n"
          ],
          "name": "stderr"
        },
        {
          "output_type": "stream",
          "text": [
            "word size:  1358\n",
            "word content:  {'generic': 479, 'contract': 246, 'hi': 524, 'daren': 276, 'sorry': 1129}\n",
            "val_F1-score 0.9627118644067797\n",
            "------------------------------------------------------------------------------------------------------------------\n"
          ],
          "name": "stdout"
        },
        {
          "output_type": "stream",
          "text": [
            "/usr/local/lib/python3.6/dist-packages/sklearn/utils/deprecation.py:87: FutureWarning: Function safe_indexing is deprecated; safe_indexing is deprecated in version 0.22 and will be removed in version 0.24.\n",
            "  warnings.warn(msg, category=FutureWarning)\n",
            "/usr/local/lib/python3.6/dist-packages/sklearn/utils/deprecation.py:87: FutureWarning: Function safe_indexing is deprecated; safe_indexing is deprecated in version 0.22 and will be removed in version 0.24.\n",
            "  warnings.warn(msg, category=FutureWarning)\n"
          ],
          "name": "stderr"
        },
        {
          "output_type": "stream",
          "text": [
            "word size:  1444\n",
            "word content:  {'enron': 396, 'technology': 1275, 'announcement': 70, 'way': 1395, 'groups': 534}\n",
            "val_F1-score 0.9690721649484537\n",
            "------------------------------------------------------------------------------------------------------------------\n"
          ],
          "name": "stdout"
        },
        {
          "output_type": "stream",
          "text": [
            "/usr/local/lib/python3.6/dist-packages/sklearn/utils/deprecation.py:87: FutureWarning: Function safe_indexing is deprecated; safe_indexing is deprecated in version 0.22 and will be removed in version 0.24.\n",
            "  warnings.warn(msg, category=FutureWarning)\n",
            "/usr/local/lib/python3.6/dist-packages/sklearn/utils/deprecation.py:87: FutureWarning: Function safe_indexing is deprecated; safe_indexing is deprecated in version 0.22 and will be removed in version 0.24.\n",
            "  warnings.warn(msg, category=FutureWarning)\n"
          ],
          "name": "stderr"
        },
        {
          "output_type": "stream",
          "text": [
            "word size:  1337\n",
            "word content:  {'start': 1123, 'date': 271, 'hourahead': 519, 'hour': 518, 'ancillary': 64}\n",
            "val_F1-score 0.9824561403508772\n",
            "------------------------------------------------------------------------------------------------------------------\n"
          ],
          "name": "stdout"
        },
        {
          "output_type": "stream",
          "text": [
            "/usr/local/lib/python3.6/dist-packages/sklearn/utils/deprecation.py:87: FutureWarning: Function safe_indexing is deprecated; safe_indexing is deprecated in version 0.22 and will be removed in version 0.24.\n",
            "  warnings.warn(msg, category=FutureWarning)\n",
            "/usr/local/lib/python3.6/dist-packages/sklearn/utils/deprecation.py:87: FutureWarning: Function safe_indexing is deprecated; safe_indexing is deprecated in version 0.22 and will be removed in version 0.24.\n",
            "  warnings.warn(msg, category=FutureWarning)\n"
          ],
          "name": "stderr"
        },
        {
          "output_type": "stream",
          "text": [
            "word size:  1307\n",
            "word content:  {'model': 696, 'received': 939, 'message': 679, 'please': 839, 'send': 1032}\n",
            "val_F1-score 0.9859154929577465\n",
            "------------------------------------------------------------------------------------------------------------------\n"
          ],
          "name": "stdout"
        },
        {
          "output_type": "stream",
          "text": [
            "/usr/local/lib/python3.6/dist-packages/sklearn/utils/deprecation.py:87: FutureWarning: Function safe_indexing is deprecated; safe_indexing is deprecated in version 0.22 and will be removed in version 0.24.\n",
            "  warnings.warn(msg, category=FutureWarning)\n",
            "/usr/local/lib/python3.6/dist-packages/sklearn/utils/deprecation.py:87: FutureWarning: Function safe_indexing is deprecated; safe_indexing is deprecated in version 0.22 and will be removed in version 0.24.\n",
            "  warnings.warn(msg, category=FutureWarning)\n"
          ],
          "name": "stderr"
        },
        {
          "output_type": "stream",
          "text": [
            "word size:  1649\n",
            "word content:  {'site': 1366, 'seems': 1317, 'like': 804, 'link': 808, 'part': 1033}\n",
            "val_F1-score 0.9556313993174063\n",
            "------------------------------------------------------------------------------------------------------------------\n"
          ],
          "name": "stdout"
        },
        {
          "output_type": "stream",
          "text": [
            "/usr/local/lib/python3.6/dist-packages/sklearn/utils/deprecation.py:87: FutureWarning: Function safe_indexing is deprecated; safe_indexing is deprecated in version 0.22 and will be removed in version 0.24.\n",
            "  warnings.warn(msg, category=FutureWarning)\n",
            "/usr/local/lib/python3.6/dist-packages/sklearn/utils/deprecation.py:87: FutureWarning: Function safe_indexing is deprecated; safe_indexing is deprecated in version 0.22 and will be removed in version 0.24.\n",
            "  warnings.warn(msg, category=FutureWarning)\n"
          ],
          "name": "stderr"
        },
        {
          "output_type": "stream",
          "text": [
            "word size:  1476\n",
            "word content:  {'grant': 540, 'thanks': 1322, 'hope': 581, 'good': 536, 'evening': 417}\n",
            "val_F1-score 0.9655172413793103\n",
            "------------------------------------------------------------------------------------------------------------------\n"
          ],
          "name": "stdout"
        },
        {
          "output_type": "stream",
          "text": [
            "/usr/local/lib/python3.6/dist-packages/sklearn/utils/deprecation.py:87: FutureWarning: Function safe_indexing is deprecated; safe_indexing is deprecated in version 0.22 and will be removed in version 0.24.\n",
            "  warnings.warn(msg, category=FutureWarning)\n",
            "/usr/local/lib/python3.6/dist-packages/sklearn/utils/deprecation.py:87: FutureWarning: Function safe_indexing is deprecated; safe_indexing is deprecated in version 0.22 and will be removed in version 0.24.\n",
            "  warnings.warn(msg, category=FutureWarning)\n"
          ],
          "name": "stderr"
        },
        {
          "output_type": "stream",
          "text": [
            "word size:  1505\n",
            "word content:  {'call': 174, 'volume': 1445, 'enron': 416, 'response': 1138, 'extremely': 461}\n",
            "val_F1-score 0.9690721649484537\n",
            "------------------------------------------------------------------------------------------------------------------\n"
          ],
          "name": "stdout"
        },
        {
          "output_type": "stream",
          "text": [
            "/usr/local/lib/python3.6/dist-packages/sklearn/utils/deprecation.py:87: FutureWarning: Function safe_indexing is deprecated; safe_indexing is deprecated in version 0.22 and will be removed in version 0.24.\n",
            "  warnings.warn(msg, category=FutureWarning)\n",
            "/usr/local/lib/python3.6/dist-packages/sklearn/utils/deprecation.py:87: FutureWarning: Function safe_indexing is deprecated; safe_indexing is deprecated in version 0.22 and will be removed in version 0.24.\n",
            "  warnings.warn(msg, category=FutureWarning)\n"
          ],
          "name": "stderr"
        },
        {
          "output_type": "stream",
          "text": [
            "word size:  1370\n",
            "word content:  {'credit': 260, 'com': 202, 'shirley': 1124, 'people': 874, 'houston': 553}\n",
            "val_F1-score 0.9722222222222222\n",
            "------------------------------------------------------------------------------------------------------------------\n"
          ],
          "name": "stdout"
        },
        {
          "output_type": "stream",
          "text": [
            "/usr/local/lib/python3.6/dist-packages/sklearn/utils/deprecation.py:87: FutureWarning: Function safe_indexing is deprecated; safe_indexing is deprecated in version 0.22 and will be removed in version 0.24.\n",
            "  warnings.warn(msg, category=FutureWarning)\n",
            "/usr/local/lib/python3.6/dist-packages/sklearn/utils/deprecation.py:87: FutureWarning: Function safe_indexing is deprecated; safe_indexing is deprecated in version 0.22 and will be removed in version 0.24.\n",
            "  warnings.warn(msg, category=FutureWarning)\n"
          ],
          "name": "stderr"
        },
        {
          "output_type": "stream",
          "text": [
            "word size:  1326\n",
            "word content:  {'las': 587, 'vegas': 1262, 'sale': 1007, 'black': 127, 'done': 309}\n",
            "val_F1-score 0.9722222222222222\n",
            "------------------------------------------------------------------------------------------------------------------\n"
          ],
          "name": "stdout"
        },
        {
          "output_type": "stream",
          "text": [
            "/usr/local/lib/python3.6/dist-packages/sklearn/utils/deprecation.py:87: FutureWarning: Function safe_indexing is deprecated; safe_indexing is deprecated in version 0.22 and will be removed in version 0.24.\n",
            "  warnings.warn(msg, category=FutureWarning)\n",
            "/usr/local/lib/python3.6/dist-packages/sklearn/utils/deprecation.py:87: FutureWarning: Function safe_indexing is deprecated; safe_indexing is deprecated in version 0.22 and will be removed in version 0.24.\n",
            "  warnings.warn(msg, category=FutureWarning)\n"
          ],
          "name": "stderr"
        },
        {
          "output_type": "stream",
          "text": [
            "word size:  1529\n",
            "word content:  {'competitive': 247, 'analysis': 64, 'update': 1442, 'us': 1446, 'attacks': 104}\n",
            "val_F1-score 0.9754385964912281\n",
            "------------------------------------------------------------------------------------------------------------------\n"
          ],
          "name": "stdout"
        },
        {
          "output_type": "stream",
          "text": [
            "/usr/local/lib/python3.6/dist-packages/sklearn/utils/deprecation.py:87: FutureWarning: Function safe_indexing is deprecated; safe_indexing is deprecated in version 0.22 and will be removed in version 0.24.\n",
            "  warnings.warn(msg, category=FutureWarning)\n",
            "/usr/local/lib/python3.6/dist-packages/sklearn/utils/deprecation.py:87: FutureWarning: Function safe_indexing is deprecated; safe_indexing is deprecated in version 0.22 and will be removed in version 0.24.\n",
            "  warnings.warn(msg, category=FutureWarning)\n"
          ],
          "name": "stderr"
        },
        {
          "output_type": "stream",
          "text": [
            "word size:  1371\n",
            "word content:  {'enron': 367, 'sec': 1075, 'seeks': 1086, 'information': 571, 'recently': 995}\n",
            "val_F1-score 0.9859154929577465\n",
            "------------------------------------------------------------------------------------------------------------------\n"
          ],
          "name": "stdout"
        },
        {
          "output_type": "stream",
          "text": [
            "/usr/local/lib/python3.6/dist-packages/sklearn/utils/deprecation.py:87: FutureWarning: Function safe_indexing is deprecated; safe_indexing is deprecated in version 0.22 and will be removed in version 0.24.\n",
            "  warnings.warn(msg, category=FutureWarning)\n",
            "/usr/local/lib/python3.6/dist-packages/sklearn/utils/deprecation.py:87: FutureWarning: Function safe_indexing is deprecated; safe_indexing is deprecated in version 0.22 and will be removed in version 0.24.\n",
            "  warnings.warn(msg, category=FutureWarning)\n"
          ],
          "name": "stderr"
        },
        {
          "output_type": "stream",
          "text": [
            "word size:  1331\n",
            "word content:  {'alumni': 57, 'list': 624, 'attached': 93, 'find': 423, 'system': 1160}\n",
            "val_F1-score 0.9823321554770318\n",
            "------------------------------------------------------------------------------------------------------------------\n"
          ],
          "name": "stdout"
        },
        {
          "output_type": "stream",
          "text": [
            "/usr/local/lib/python3.6/dist-packages/sklearn/utils/deprecation.py:87: FutureWarning: Function safe_indexing is deprecated; safe_indexing is deprecated in version 0.22 and will be removed in version 0.24.\n",
            "  warnings.warn(msg, category=FutureWarning)\n",
            "/usr/local/lib/python3.6/dist-packages/sklearn/utils/deprecation.py:87: FutureWarning: Function safe_indexing is deprecated; safe_indexing is deprecated in version 0.22 and will be removed in version 0.24.\n",
            "  warnings.warn(msg, category=FutureWarning)\n"
          ],
          "name": "stderr"
        },
        {
          "output_type": "stream",
          "text": [
            "word size:  1384\n",
            "word content:  {'company': 220, 'usa': 1305, 'global': 493, 'sitara': 1143, 'response': 1045}\n",
            "val_F1-score 0.972027972027972\n",
            "------------------------------------------------------------------------------------------------------------------\n"
          ],
          "name": "stdout"
        },
        {
          "output_type": "stream",
          "text": [
            "/usr/local/lib/python3.6/dist-packages/sklearn/utils/deprecation.py:87: FutureWarning: Function safe_indexing is deprecated; safe_indexing is deprecated in version 0.22 and will be removed in version 0.24.\n",
            "  warnings.warn(msg, category=FutureWarning)\n",
            "/usr/local/lib/python3.6/dist-packages/sklearn/utils/deprecation.py:87: FutureWarning: Function safe_indexing is deprecated; safe_indexing is deprecated in version 0.22 and will be removed in version 0.24.\n",
            "  warnings.warn(msg, category=FutureWarning)\n"
          ],
          "name": "stderr"
        },
        {
          "output_type": "stream",
          "text": [
            "word size:  1477\n",
            "word content:  {'enron': 411, 'keep': 666, 'good': 543, 'work': 1455, 'home': 579}\n",
            "val_F1-score 0.9591836734693879\n",
            "------------------------------------------------------------------------------------------------------------------\n"
          ],
          "name": "stdout"
        },
        {
          "output_type": "stream",
          "text": [
            "/usr/local/lib/python3.6/dist-packages/sklearn/utils/deprecation.py:87: FutureWarning: Function safe_indexing is deprecated; safe_indexing is deprecated in version 0.22 and will be removed in version 0.24.\n",
            "  warnings.warn(msg, category=FutureWarning)\n",
            "/usr/local/lib/python3.6/dist-packages/sklearn/utils/deprecation.py:87: FutureWarning: Function safe_indexing is deprecated; safe_indexing is deprecated in version 0.22 and will be removed in version 0.24.\n",
            "  warnings.warn(msg, category=FutureWarning)\n"
          ],
          "name": "stderr"
        },
        {
          "output_type": "stream",
          "text": [
            "word size:  1646\n",
            "word content:  {'development': 393, 'progress': 1159, 'thank': 1478, 'process': 1146, 'december': 370}\n",
            "val_F1-score 0.9619377162629758\n",
            "------------------------------------------------------------------------------------------------------------------\n"
          ],
          "name": "stdout"
        },
        {
          "output_type": "stream",
          "text": [
            "/usr/local/lib/python3.6/dist-packages/sklearn/utils/deprecation.py:87: FutureWarning: Function safe_indexing is deprecated; safe_indexing is deprecated in version 0.22 and will be removed in version 0.24.\n",
            "  warnings.warn(msg, category=FutureWarning)\n",
            "/usr/local/lib/python3.6/dist-packages/sklearn/utils/deprecation.py:87: FutureWarning: Function safe_indexing is deprecated; safe_indexing is deprecated in version 0.22 and will be removed in version 0.24.\n",
            "  warnings.warn(msg, category=FutureWarning)\n"
          ],
          "name": "stderr"
        },
        {
          "output_type": "stream",
          "text": [
            "word size:  1454\n",
            "word content:  {'thanks': 1302, 'message': 761, 'send': 1159, 'information': 598, 'regarding': 1064}\n",
            "val_F1-score 0.9621993127147765\n",
            "------------------------------------------------------------------------------------------------------------------\n"
          ],
          "name": "stdout"
        },
        {
          "output_type": "stream",
          "text": [
            "/usr/local/lib/python3.6/dist-packages/sklearn/utils/deprecation.py:87: FutureWarning: Function safe_indexing is deprecated; safe_indexing is deprecated in version 0.22 and will be removed in version 0.24.\n",
            "  warnings.warn(msg, category=FutureWarning)\n",
            "/usr/local/lib/python3.6/dist-packages/sklearn/utils/deprecation.py:87: FutureWarning: Function safe_indexing is deprecated; safe_indexing is deprecated in version 0.22 and will be removed in version 0.24.\n",
            "  warnings.warn(msg, category=FutureWarning)\n"
          ],
          "name": "stderr"
        },
        {
          "output_type": "stream",
          "text": [
            "word size:  1659\n",
            "word content:  {'enron': 449, 'line': 794, 'tracking': 1516, 'meeting': 885, 'friday': 567}\n",
            "val_F1-score 0.9657534246575342\n",
            "------------------------------------------------------------------------------------------------------------------\n"
          ],
          "name": "stdout"
        },
        {
          "output_type": "stream",
          "text": [
            "/usr/local/lib/python3.6/dist-packages/sklearn/utils/deprecation.py:87: FutureWarning: Function safe_indexing is deprecated; safe_indexing is deprecated in version 0.22 and will be removed in version 0.24.\n",
            "  warnings.warn(msg, category=FutureWarning)\n",
            "/usr/local/lib/python3.6/dist-packages/sklearn/utils/deprecation.py:87: FutureWarning: Function safe_indexing is deprecated; safe_indexing is deprecated in version 0.22 and will be removed in version 0.24.\n",
            "  warnings.warn(msg, category=FutureWarning)\n"
          ],
          "name": "stderr"
        },
        {
          "output_type": "stream",
          "text": [
            "word size:  1553\n",
            "word content:  {'agenda': 40, 'pre': 1039, 'work': 1531, 'valuation': 1478, 'session': 1254}\n",
            "val_F1-score 0.9616724738675958\n",
            "------------------------------------------------------------------------------------------------------------------\n"
          ],
          "name": "stdout"
        },
        {
          "output_type": "stream",
          "text": [
            "/usr/local/lib/python3.6/dist-packages/sklearn/utils/deprecation.py:87: FutureWarning: Function safe_indexing is deprecated; safe_indexing is deprecated in version 0.22 and will be removed in version 0.24.\n",
            "  warnings.warn(msg, category=FutureWarning)\n",
            "/usr/local/lib/python3.6/dist-packages/sklearn/utils/deprecation.py:87: FutureWarning: Function safe_indexing is deprecated; safe_indexing is deprecated in version 0.22 and will be removed in version 0.24.\n",
            "  warnings.warn(msg, category=FutureWarning)\n"
          ],
          "name": "stderr"
        },
        {
          "output_type": "stream",
          "text": [
            "word size:  1348\n",
            "word content:  {'program': 941, 'hello': 522, 'next': 778, 'week': 1308, 'conference': 232}\n",
            "val_F1-score 0.9722222222222222\n",
            "------------------------------------------------------------------------------------------------------------------\n"
          ],
          "name": "stdout"
        },
        {
          "output_type": "stream",
          "text": [
            "/usr/local/lib/python3.6/dist-packages/sklearn/utils/deprecation.py:87: FutureWarning: Function safe_indexing is deprecated; safe_indexing is deprecated in version 0.22 and will be removed in version 0.24.\n",
            "  warnings.warn(msg, category=FutureWarning)\n",
            "/usr/local/lib/python3.6/dist-packages/sklearn/utils/deprecation.py:87: FutureWarning: Function safe_indexing is deprecated; safe_indexing is deprecated in version 0.22 and will be removed in version 0.24.\n",
            "  warnings.warn(msg, category=FutureWarning)\n"
          ],
          "name": "stderr"
        },
        {
          "output_type": "stream",
          "text": [
            "word size:  1446\n",
            "word content:  {'post': 953, 'presentation': 963, 'enron': 377, 'field': 443, 'hi': 542}\n",
            "val_F1-score 0.9688581314878894\n",
            "------------------------------------------------------------------------------------------------------------------\n"
          ],
          "name": "stdout"
        },
        {
          "output_type": "stream",
          "text": [
            "/usr/local/lib/python3.6/dist-packages/sklearn/utils/deprecation.py:87: FutureWarning: Function safe_indexing is deprecated; safe_indexing is deprecated in version 0.22 and will be removed in version 0.24.\n",
            "  warnings.warn(msg, category=FutureWarning)\n",
            "/usr/local/lib/python3.6/dist-packages/sklearn/utils/deprecation.py:87: FutureWarning: Function safe_indexing is deprecated; safe_indexing is deprecated in version 0.22 and will be removed in version 0.24.\n",
            "  warnings.warn(msg, category=FutureWarning)\n"
          ],
          "name": "stderr"
        },
        {
          "output_type": "stream",
          "text": [
            "word size:  1915\n",
            "word content:  {'global': 698, 'meter': 1035, 'july': 874, 'activity': 26, 'lee': 911}\n",
            "val_F1-score 0.9591836734693879\n",
            "------------------------------------------------------------------------------------------------------------------\n"
          ],
          "name": "stdout"
        },
        {
          "output_type": "stream",
          "text": [
            "/usr/local/lib/python3.6/dist-packages/sklearn/utils/deprecation.py:87: FutureWarning: Function safe_indexing is deprecated; safe_indexing is deprecated in version 0.22 and will be removed in version 0.24.\n",
            "  warnings.warn(msg, category=FutureWarning)\n",
            "/usr/local/lib/python3.6/dist-packages/sklearn/utils/deprecation.py:87: FutureWarning: Function safe_indexing is deprecated; safe_indexing is deprecated in version 0.22 and will be removed in version 0.24.\n",
            "  warnings.warn(msg, category=FutureWarning)\n"
          ],
          "name": "stderr"
        },
        {
          "output_type": "stream",
          "text": [
            "word size:  1378\n",
            "word content:  {'production': 933, 'daren': 269, 'could': 251, 'would': 1367, 'mary': 694}\n",
            "val_F1-score 0.9860139860139859\n",
            "------------------------------------------------------------------------------------------------------------------\n"
          ],
          "name": "stdout"
        },
        {
          "output_type": "stream",
          "text": [
            "/usr/local/lib/python3.6/dist-packages/sklearn/utils/deprecation.py:87: FutureWarning: Function safe_indexing is deprecated; safe_indexing is deprecated in version 0.22 and will be removed in version 0.24.\n",
            "  warnings.warn(msg, category=FutureWarning)\n",
            "/usr/local/lib/python3.6/dist-packages/sklearn/utils/deprecation.py:87: FutureWarning: Function safe_indexing is deprecated; safe_indexing is deprecated in version 0.22 and will be removed in version 0.24.\n",
            "  warnings.warn(msg, category=FutureWarning)\n"
          ],
          "name": "stderr"
        },
        {
          "output_type": "stream",
          "text": [
            "word size:  1427\n",
            "word content:  {'agenda': 41, 'california': 172, 'call': 173, 'proposal': 999, 'know': 654}\n",
            "val_F1-score 0.9757785467128027\n",
            "------------------------------------------------------------------------------------------------------------------\n"
          ],
          "name": "stdout"
        },
        {
          "output_type": "stream",
          "text": [
            "/usr/local/lib/python3.6/dist-packages/sklearn/utils/deprecation.py:87: FutureWarning: Function safe_indexing is deprecated; safe_indexing is deprecated in version 0.22 and will be removed in version 0.24.\n",
            "  warnings.warn(msg, category=FutureWarning)\n",
            "/usr/local/lib/python3.6/dist-packages/sklearn/utils/deprecation.py:87: FutureWarning: Function safe_indexing is deprecated; safe_indexing is deprecated in version 0.22 and will be removed in version 0.24.\n",
            "  warnings.warn(msg, category=FutureWarning)\n"
          ],
          "name": "stderr"
        },
        {
          "output_type": "stream",
          "text": [
            "word size:  1393\n",
            "word content:  {'needed': 781, 'daren': 285, 'thank': 1240, 'prompt': 949, 'attention': 102}\n",
            "val_F1-score 0.9652777777777778\n",
            "------------------------------------------------------------------------------------------------------------------\n"
          ],
          "name": "stdout"
        },
        {
          "output_type": "stream",
          "text": [
            "/usr/local/lib/python3.6/dist-packages/sklearn/utils/deprecation.py:87: FutureWarning: Function safe_indexing is deprecated; safe_indexing is deprecated in version 0.22 and will be removed in version 0.24.\n",
            "  warnings.warn(msg, category=FutureWarning)\n",
            "/usr/local/lib/python3.6/dist-packages/sklearn/utils/deprecation.py:87: FutureWarning: Function safe_indexing is deprecated; safe_indexing is deprecated in version 0.22 and will be removed in version 0.24.\n",
            "  warnings.warn(msg, category=FutureWarning)\n"
          ],
          "name": "stderr"
        },
        {
          "output_type": "stream",
          "text": [
            "word size:  1306\n",
            "word content:  {'please': 846, 'touch': 1187, 'base': 108, 'rac': 919, 'review': 980}\n",
            "val_F1-score 0.9619377162629758\n",
            "------------------------------------------------------------------------------------------------------------------\n"
          ],
          "name": "stdout"
        },
        {
          "output_type": "stream",
          "text": [
            "/usr/local/lib/python3.6/dist-packages/sklearn/utils/deprecation.py:87: FutureWarning: Function safe_indexing is deprecated; safe_indexing is deprecated in version 0.22 and will be removed in version 0.24.\n",
            "  warnings.warn(msg, category=FutureWarning)\n",
            "/usr/local/lib/python3.6/dist-packages/sklearn/utils/deprecation.py:87: FutureWarning: Function safe_indexing is deprecated; safe_indexing is deprecated in version 0.22 and will be removed in version 0.24.\n",
            "  warnings.warn(msg, category=FutureWarning)\n"
          ],
          "name": "stderr"
        },
        {
          "output_type": "stream",
          "text": [
            "word size:  1324\n",
            "word content:  {'enron': 346, 'team': 1163, 'question': 928, 'hi': 515, 'need': 749}\n",
            "val_F1-score 0.9686411149825783\n",
            "------------------------------------------------------------------------------------------------------------------\n"
          ],
          "name": "stdout"
        },
        {
          "output_type": "stream",
          "text": [
            "/usr/local/lib/python3.6/dist-packages/sklearn/utils/deprecation.py:87: FutureWarning: Function safe_indexing is deprecated; safe_indexing is deprecated in version 0.22 and will be removed in version 0.24.\n",
            "  warnings.warn(msg, category=FutureWarning)\n",
            "/usr/local/lib/python3.6/dist-packages/sklearn/utils/deprecation.py:87: FutureWarning: Function safe_indexing is deprecated; safe_indexing is deprecated in version 0.22 and will be removed in version 0.24.\n",
            "  warnings.warn(msg, category=FutureWarning)\n"
          ],
          "name": "stderr"
        },
        {
          "output_type": "stream",
          "text": [
            "word size:  1317\n",
            "word content:  {'problem': 899, 'shall': 1067, 'prepare': 880, 'short': 1078, 'presentation': 883}\n",
            "val_F1-score 0.9754385964912281\n",
            "------------------------------------------------------------------------------------------------------------------\n"
          ],
          "name": "stdout"
        },
        {
          "output_type": "stream",
          "text": [
            "/usr/local/lib/python3.6/dist-packages/sklearn/utils/deprecation.py:87: FutureWarning: Function safe_indexing is deprecated; safe_indexing is deprecated in version 0.22 and will be removed in version 0.24.\n",
            "  warnings.warn(msg, category=FutureWarning)\n",
            "/usr/local/lib/python3.6/dist-packages/sklearn/utils/deprecation.py:87: FutureWarning: Function safe_indexing is deprecated; safe_indexing is deprecated in version 0.22 and will be removed in version 0.24.\n",
            "  warnings.warn(msg, category=FutureWarning)\n"
          ],
          "name": "stderr"
        },
        {
          "output_type": "stream",
          "text": [
            "word size:  1531\n",
            "word content:  {'global': 552, 'operations': 932, 'forum': 519, 'save': 1198, 'date': 321}\n",
            "val_F1-score 0.9791666666666666\n",
            "------------------------------------------------------------------------------------------------------------------\n"
          ],
          "name": "stdout"
        },
        {
          "output_type": "stream",
          "text": [
            "/usr/local/lib/python3.6/dist-packages/sklearn/utils/deprecation.py:87: FutureWarning: Function safe_indexing is deprecated; safe_indexing is deprecated in version 0.22 and will be removed in version 0.24.\n",
            "  warnings.warn(msg, category=FutureWarning)\n",
            "/usr/local/lib/python3.6/dist-packages/sklearn/utils/deprecation.py:87: FutureWarning: Function safe_indexing is deprecated; safe_indexing is deprecated in version 0.22 and will be removed in version 0.24.\n",
            "  warnings.warn(msg, category=FutureWarning)\n"
          ],
          "name": "stderr"
        },
        {
          "output_type": "stream",
          "text": [
            "word size:  1383\n",
            "word content:  {'may': 714, 'activity': 15, 'thanks': 1235, 'daren': 275, 'need': 777}\n",
            "val_F1-score 0.972027972027972\n",
            "------------------------------------------------------------------------------------------------------------------\n"
          ],
          "name": "stdout"
        },
        {
          "output_type": "stream",
          "text": [
            "/usr/local/lib/python3.6/dist-packages/sklearn/utils/deprecation.py:87: FutureWarning: Function safe_indexing is deprecated; safe_indexing is deprecated in version 0.22 and will be removed in version 0.24.\n",
            "  warnings.warn(msg, category=FutureWarning)\n",
            "/usr/local/lib/python3.6/dist-packages/sklearn/utils/deprecation.py:87: FutureWarning: Function safe_indexing is deprecated; safe_indexing is deprecated in version 0.22 and will be removed in version 0.24.\n",
            "  warnings.warn(msg, category=FutureWarning)\n"
          ],
          "name": "stderr"
        },
        {
          "output_type": "stream",
          "text": [
            "word size:  1785\n",
            "word content:  {'special': 1511, 'assets': 119, 'portfolio': 1190, 'april': 108, 'attached': 126}\n",
            "val_F1-score 0.9688581314878894\n",
            "------------------------------------------------------------------------------------------------------------------\n"
          ],
          "name": "stdout"
        },
        {
          "output_type": "stream",
          "text": [
            "/usr/local/lib/python3.6/dist-packages/sklearn/utils/deprecation.py:87: FutureWarning: Function safe_indexing is deprecated; safe_indexing is deprecated in version 0.22 and will be removed in version 0.24.\n",
            "  warnings.warn(msg, category=FutureWarning)\n",
            "/usr/local/lib/python3.6/dist-packages/sklearn/utils/deprecation.py:87: FutureWarning: Function safe_indexing is deprecated; safe_indexing is deprecated in version 0.22 and will be removed in version 0.24.\n",
            "  warnings.warn(msg, category=FutureWarning)\n"
          ],
          "name": "stderr"
        },
        {
          "output_type": "stream",
          "text": [
            "word size:  1509\n",
            "word content:  {'list': 728, 'ena': 412, 'rac': 1086, 'employees': 409, 'family': 478}\n",
            "val_F1-score 0.9824561403508772\n",
            "------------------------------------------------------------------------------------------------------------------\n"
          ],
          "name": "stdout"
        },
        {
          "output_type": "stream",
          "text": [
            "/usr/local/lib/python3.6/dist-packages/sklearn/utils/deprecation.py:87: FutureWarning: Function safe_indexing is deprecated; safe_indexing is deprecated in version 0.22 and will be removed in version 0.24.\n",
            "  warnings.warn(msg, category=FutureWarning)\n",
            "/usr/local/lib/python3.6/dist-packages/sklearn/utils/deprecation.py:87: FutureWarning: Function safe_indexing is deprecated; safe_indexing is deprecated in version 0.22 and will be removed in version 0.24.\n",
            "  warnings.warn(msg, category=FutureWarning)\n"
          ],
          "name": "stderr"
        },
        {
          "output_type": "stream",
          "text": [
            "word size:  1418\n",
            "word content:  {'follow': 456, 'email': 367, 'received': 1013, 'several': 1129, 'link': 658}\n",
            "val_F1-score 0.972027972027972\n",
            "------------------------------------------------------------------------------------------------------------------\n"
          ],
          "name": "stdout"
        },
        {
          "output_type": "stream",
          "text": [
            "/usr/local/lib/python3.6/dist-packages/sklearn/utils/deprecation.py:87: FutureWarning: Function safe_indexing is deprecated; safe_indexing is deprecated in version 0.22 and will be removed in version 0.24.\n",
            "  warnings.warn(msg, category=FutureWarning)\n",
            "/usr/local/lib/python3.6/dist-packages/sklearn/utils/deprecation.py:87: FutureWarning: Function safe_indexing is deprecated; safe_indexing is deprecated in version 0.22 and will be removed in version 0.24.\n",
            "  warnings.warn(msg, category=FutureWarning)\n"
          ],
          "name": "stderr"
        },
        {
          "output_type": "stream",
          "text": [
            "word size:  1489\n",
            "word content:  {'letter': 700, 'louise': 745, 'attached': 99, 'please': 978, 'find': 482}\n",
            "val_F1-score 0.9690721649484537\n",
            "------------------------------------------------------------------------------------------------------------------\n"
          ],
          "name": "stdout"
        },
        {
          "output_type": "stream",
          "text": [
            "/usr/local/lib/python3.6/dist-packages/sklearn/utils/deprecation.py:87: FutureWarning: Function safe_indexing is deprecated; safe_indexing is deprecated in version 0.22 and will be removed in version 0.24.\n",
            "  warnings.warn(msg, category=FutureWarning)\n",
            "/usr/local/lib/python3.6/dist-packages/sklearn/utils/deprecation.py:87: FutureWarning: Function safe_indexing is deprecated; safe_indexing is deprecated in version 0.22 and will be removed in version 0.24.\n",
            "  warnings.warn(msg, category=FutureWarning)\n"
          ],
          "name": "stderr"
        },
        {
          "output_type": "stream",
          "text": [
            "word size:  1525\n",
            "word content:  {'thank': 1369, 'mr': 863, 'received': 1111, 'first': 505, 'group': 573}\n",
            "val_F1-score 0.9757785467128027\n",
            "------------------------------------------------------------------------------------------------------------------\n"
          ],
          "name": "stdout"
        },
        {
          "output_type": "stream",
          "text": [
            "/usr/local/lib/python3.6/dist-packages/sklearn/utils/deprecation.py:87: FutureWarning: Function safe_indexing is deprecated; safe_indexing is deprecated in version 0.22 and will be removed in version 0.24.\n",
            "  warnings.warn(msg, category=FutureWarning)\n",
            "/usr/local/lib/python3.6/dist-packages/sklearn/utils/deprecation.py:87: FutureWarning: Function safe_indexing is deprecated; safe_indexing is deprecated in version 0.22 and will be removed in version 0.24.\n",
            "  warnings.warn(msg, category=FutureWarning)\n"
          ],
          "name": "stderr"
        },
        {
          "output_type": "stream",
          "text": [
            "word size:  1397\n",
            "word content:  {'enrononline': 386, 'weekly': 1360, 'public': 1000, 'report': 1055, 'information': 602}\n",
            "val_F1-score 0.9825783972125435\n",
            "------------------------------------------------------------------------------------------------------------------\n"
          ],
          "name": "stdout"
        },
        {
          "output_type": "stream",
          "text": [
            "/usr/local/lib/python3.6/dist-packages/sklearn/utils/deprecation.py:87: FutureWarning: Function safe_indexing is deprecated; safe_indexing is deprecated in version 0.22 and will be removed in version 0.24.\n",
            "  warnings.warn(msg, category=FutureWarning)\n",
            "/usr/local/lib/python3.6/dist-packages/sklearn/utils/deprecation.py:87: FutureWarning: Function safe_indexing is deprecated; safe_indexing is deprecated in version 0.22 and will be removed in version 0.24.\n",
            "  warnings.warn(msg, category=FutureWarning)\n"
          ],
          "name": "stderr"
        },
        {
          "output_type": "stream",
          "text": [
            "word size:  1412\n",
            "word content:  {'factor': 412, 'fyi': 473, 'jeff': 610, 'forwarded': 458, 'hou': 536}\n",
            "val_F1-score 0.979020979020979\n",
            "------------------------------------------------------------------------------------------------------------------\n"
          ],
          "name": "stdout"
        },
        {
          "output_type": "stream",
          "text": [
            "/usr/local/lib/python3.6/dist-packages/sklearn/utils/deprecation.py:87: FutureWarning: Function safe_indexing is deprecated; safe_indexing is deprecated in version 0.22 and will be removed in version 0.24.\n",
            "  warnings.warn(msg, category=FutureWarning)\n",
            "/usr/local/lib/python3.6/dist-packages/sklearn/utils/deprecation.py:87: FutureWarning: Function safe_indexing is deprecated; safe_indexing is deprecated in version 0.22 and will be removed in version 0.24.\n",
            "  warnings.warn(msg, category=FutureWarning)\n"
          ],
          "name": "stderr"
        },
        {
          "output_type": "stream",
          "text": [
            "word size:  1762\n",
            "word content:  {'user': 1672, 'thanks': 1596, 'interest': 780, 'add': 29, 'meeting': 954}\n",
            "val_F1-score 0.9391891891891893\n",
            "------------------------------------------------------------------------------------------------------------------\n"
          ],
          "name": "stdout"
        },
        {
          "output_type": "stream",
          "text": [
            "/usr/local/lib/python3.6/dist-packages/sklearn/utils/deprecation.py:87: FutureWarning: Function safe_indexing is deprecated; safe_indexing is deprecated in version 0.22 and will be removed in version 0.24.\n",
            "  warnings.warn(msg, category=FutureWarning)\n",
            "/usr/local/lib/python3.6/dist-packages/sklearn/utils/deprecation.py:87: FutureWarning: Function safe_indexing is deprecated; safe_indexing is deprecated in version 0.22 and will be removed in version 0.24.\n",
            "  warnings.warn(msg, category=FutureWarning)\n"
          ],
          "name": "stderr"
        },
        {
          "output_type": "stream",
          "text": [
            "word size:  1492\n",
            "word content:  {'enron': 424, 'technology': 1320, 'announcement': 71, 'way': 1443, 'groups': 570}\n",
            "val_F1-score 0.9559322033898304\n",
            "------------------------------------------------------------------------------------------------------------------\n"
          ],
          "name": "stdout"
        },
        {
          "output_type": "stream",
          "text": [
            "/usr/local/lib/python3.6/dist-packages/sklearn/utils/deprecation.py:87: FutureWarning: Function safe_indexing is deprecated; safe_indexing is deprecated in version 0.22 and will be removed in version 0.24.\n",
            "  warnings.warn(msg, category=FutureWarning)\n",
            "/usr/local/lib/python3.6/dist-packages/sklearn/utils/deprecation.py:87: FutureWarning: Function safe_indexing is deprecated; safe_indexing is deprecated in version 0.22 and will be removed in version 0.24.\n",
            "  warnings.warn(msg, category=FutureWarning)\n"
          ],
          "name": "stderr"
        },
        {
          "output_type": "stream",
          "text": [
            "word size:  1290\n",
            "word content:  {'schedule': 997, 'crawler': 243, 'hourahead': 503, 'failure': 384, 'start': 1080}\n",
            "val_F1-score 0.971830985915493\n",
            "------------------------------------------------------------------------------------------------------------------\n"
          ],
          "name": "stdout"
        },
        {
          "output_type": "stream",
          "text": [
            "/usr/local/lib/python3.6/dist-packages/sklearn/utils/deprecation.py:87: FutureWarning: Function safe_indexing is deprecated; safe_indexing is deprecated in version 0.22 and will be removed in version 0.24.\n",
            "  warnings.warn(msg, category=FutureWarning)\n",
            "/usr/local/lib/python3.6/dist-packages/sklearn/utils/deprecation.py:87: FutureWarning: Function safe_indexing is deprecated; safe_indexing is deprecated in version 0.22 and will be removed in version 0.24.\n",
            "  warnings.warn(msg, category=FutureWarning)\n"
          ],
          "name": "stderr"
        },
        {
          "output_type": "stream",
          "text": [
            "word size:  1323\n",
            "word content:  {'gas': 459, 'daily': 263, 'inform': 553, 'changes': 174, 'option': 801}\n",
            "val_F1-score 0.9893992932862191\n",
            "------------------------------------------------------------------------------------------------------------------\n"
          ],
          "name": "stdout"
        },
        {
          "output_type": "stream",
          "text": [
            "/usr/local/lib/python3.6/dist-packages/sklearn/utils/deprecation.py:87: FutureWarning: Function safe_indexing is deprecated; safe_indexing is deprecated in version 0.22 and will be removed in version 0.24.\n",
            "  warnings.warn(msg, category=FutureWarning)\n",
            "/usr/local/lib/python3.6/dist-packages/sklearn/utils/deprecation.py:87: FutureWarning: Function safe_indexing is deprecated; safe_indexing is deprecated in version 0.22 and will be removed in version 0.24.\n",
            "  warnings.warn(msg, category=FutureWarning)\n"
          ],
          "name": "stderr"
        },
        {
          "output_type": "stream",
          "text": [
            "word size:  1573\n",
            "word content:  {'follow': 527, 'louise': 785, 'sent': 1257, 'two': 1452, 'emails': 420}\n",
            "val_F1-score 0.9488054607508534\n",
            "------------------------------------------------------------------------------------------------------------------\n"
          ],
          "name": "stdout"
        },
        {
          "output_type": "stream",
          "text": [
            "/usr/local/lib/python3.6/dist-packages/sklearn/utils/deprecation.py:87: FutureWarning: Function safe_indexing is deprecated; safe_indexing is deprecated in version 0.22 and will be removed in version 0.24.\n",
            "  warnings.warn(msg, category=FutureWarning)\n",
            "/usr/local/lib/python3.6/dist-packages/sklearn/utils/deprecation.py:87: FutureWarning: Function safe_indexing is deprecated; safe_indexing is deprecated in version 0.22 and will be removed in version 0.24.\n",
            "  warnings.warn(msg, category=FutureWarning)\n"
          ],
          "name": "stderr"
        },
        {
          "output_type": "stream",
          "text": [
            "word size:  1524\n",
            "word content:  {'interview': 683, 'daren': 319, 'gary': 560, 'duty': 388, 'monday': 852}\n",
            "val_F1-score 0.9688581314878894\n",
            "------------------------------------------------------------------------------------------------------------------\n"
          ],
          "name": "stdout"
        },
        {
          "output_type": "stream",
          "text": [
            "/usr/local/lib/python3.6/dist-packages/sklearn/utils/deprecation.py:87: FutureWarning: Function safe_indexing is deprecated; safe_indexing is deprecated in version 0.22 and will be removed in version 0.24.\n",
            "  warnings.warn(msg, category=FutureWarning)\n",
            "/usr/local/lib/python3.6/dist-packages/sklearn/utils/deprecation.py:87: FutureWarning: Function safe_indexing is deprecated; safe_indexing is deprecated in version 0.22 and will be removed in version 0.24.\n",
            "  warnings.warn(msg, category=FutureWarning)\n"
          ],
          "name": "stderr"
        },
        {
          "output_type": "stream",
          "text": [
            "word size:  1219\n",
            "word content:  {'outstanding': 752, 'dave': 257, 'said': 943, 'thanks': 1094, 'already': 52}\n",
            "val_F1-score 0.975609756097561\n",
            "------------------------------------------------------------------------------------------------------------------\n"
          ],
          "name": "stdout"
        },
        {
          "output_type": "stream",
          "text": [
            "/usr/local/lib/python3.6/dist-packages/sklearn/utils/deprecation.py:87: FutureWarning: Function safe_indexing is deprecated; safe_indexing is deprecated in version 0.22 and will be removed in version 0.24.\n",
            "  warnings.warn(msg, category=FutureWarning)\n",
            "/usr/local/lib/python3.6/dist-packages/sklearn/utils/deprecation.py:87: FutureWarning: Function safe_indexing is deprecated; safe_indexing is deprecated in version 0.22 and will be removed in version 0.24.\n",
            "  warnings.warn(msg, category=FutureWarning)\n"
          ],
          "name": "stderr"
        },
        {
          "output_type": "stream",
          "text": [
            "word size:  1351\n",
            "word content:  {'vacation': 1274, 'shirley': 1099, 'plan': 881, 'take': 1183, 'days': 279}\n",
            "val_F1-score 0.9791666666666666\n",
            "------------------------------------------------------------------------------------------------------------------\n"
          ],
          "name": "stdout"
        },
        {
          "output_type": "stream",
          "text": [
            "/usr/local/lib/python3.6/dist-packages/sklearn/utils/deprecation.py:87: FutureWarning: Function safe_indexing is deprecated; safe_indexing is deprecated in version 0.22 and will be removed in version 0.24.\n",
            "  warnings.warn(msg, category=FutureWarning)\n",
            "/usr/local/lib/python3.6/dist-packages/sklearn/utils/deprecation.py:87: FutureWarning: Function safe_indexing is deprecated; safe_indexing is deprecated in version 0.22 and will be removed in version 0.24.\n",
            "  warnings.warn(msg, category=FutureWarning)\n"
          ],
          "name": "stderr"
        },
        {
          "output_type": "stream",
          "text": [
            "word size:  1489\n",
            "word content:  {'project': 1034, 'fixed': 476, 'deals': 307, 'risk': 1134, 'price': 1010}\n",
            "val_F1-score 0.9964912280701755\n",
            "------------------------------------------------------------------------------------------------------------------\n"
          ],
          "name": "stdout"
        },
        {
          "output_type": "stream",
          "text": [
            "/usr/local/lib/python3.6/dist-packages/sklearn/utils/deprecation.py:87: FutureWarning: Function safe_indexing is deprecated; safe_indexing is deprecated in version 0.22 and will be removed in version 0.24.\n",
            "  warnings.warn(msg, category=FutureWarning)\n",
            "/usr/local/lib/python3.6/dist-packages/sklearn/utils/deprecation.py:87: FutureWarning: Function safe_indexing is deprecated; safe_indexing is deprecated in version 0.22 and will be removed in version 0.24.\n",
            "  warnings.warn(msg, category=FutureWarning)\n"
          ],
          "name": "stderr"
        },
        {
          "output_type": "stream",
          "text": [
            "word size:  1309\n",
            "word content:  {'review': 986, 'business': 149, 'unit': 1220, 'internal': 566, 'controls': 233}\n",
            "val_F1-score 0.9724137931034482\n",
            "------------------------------------------------------------------------------------------------------------------\n"
          ],
          "name": "stdout"
        },
        {
          "output_type": "stream",
          "text": [
            "/usr/local/lib/python3.6/dist-packages/sklearn/utils/deprecation.py:87: FutureWarning: Function safe_indexing is deprecated; safe_indexing is deprecated in version 0.22 and will be removed in version 0.24.\n",
            "  warnings.warn(msg, category=FutureWarning)\n",
            "/usr/local/lib/python3.6/dist-packages/sklearn/utils/deprecation.py:87: FutureWarning: Function safe_indexing is deprecated; safe_indexing is deprecated in version 0.22 and will be removed in version 0.24.\n",
            "  warnings.warn(msg, category=FutureWarning)\n"
          ],
          "name": "stderr"
        },
        {
          "output_type": "stream",
          "text": [
            "word size:  1572\n",
            "word content:  {'operational': 956, 'risk': 1210, 'person': 1009, 'goes': 587, 'one': 945}\n",
            "val_F1-score 0.9788732394366197\n",
            "------------------------------------------------------------------------------------------------------------------\n"
          ],
          "name": "stdout"
        },
        {
          "output_type": "stream",
          "text": [
            "/usr/local/lib/python3.6/dist-packages/sklearn/utils/deprecation.py:87: FutureWarning: Function safe_indexing is deprecated; safe_indexing is deprecated in version 0.22 and will be removed in version 0.24.\n",
            "  warnings.warn(msg, category=FutureWarning)\n",
            "/usr/local/lib/python3.6/dist-packages/sklearn/utils/deprecation.py:87: FutureWarning: Function safe_indexing is deprecated; safe_indexing is deprecated in version 0.22 and will be removed in version 0.24.\n",
            "  warnings.warn(msg, category=FutureWarning)\n"
          ],
          "name": "stderr"
        },
        {
          "output_type": "stream",
          "text": [
            "word size:  1446\n",
            "word content:  {'february': 449, 'getting': 514, 'apologies': 75, 'john': 648, 'forwarded': 488}\n",
            "val_F1-score 0.9788732394366197\n",
            "------------------------------------------------------------------------------------------------------------------\n"
          ],
          "name": "stdout"
        },
        {
          "output_type": "stream",
          "text": [
            "/usr/local/lib/python3.6/dist-packages/sklearn/utils/deprecation.py:87: FutureWarning: Function safe_indexing is deprecated; safe_indexing is deprecated in version 0.22 and will be removed in version 0.24.\n",
            "  warnings.warn(msg, category=FutureWarning)\n",
            "/usr/local/lib/python3.6/dist-packages/sklearn/utils/deprecation.py:87: FutureWarning: Function safe_indexing is deprecated; safe_indexing is deprecated in version 0.22 and will be removed in version 0.24.\n",
            "  warnings.warn(msg, category=FutureWarning)\n"
          ],
          "name": "stderr"
        },
        {
          "output_type": "stream",
          "text": [
            "word size:  1263\n",
            "word content:  {'management': 647, 'following': 425, 'meeting': 669, 'gary': 446, 'today': 1147}\n",
            "val_F1-score 0.979020979020979\n",
            "------------------------------------------------------------------------------------------------------------------\n"
          ],
          "name": "stdout"
        },
        {
          "output_type": "stream",
          "text": [
            "/usr/local/lib/python3.6/dist-packages/sklearn/utils/deprecation.py:87: FutureWarning: Function safe_indexing is deprecated; safe_indexing is deprecated in version 0.22 and will be removed in version 0.24.\n",
            "  warnings.warn(msg, category=FutureWarning)\n",
            "/usr/local/lib/python3.6/dist-packages/sklearn/utils/deprecation.py:87: FutureWarning: Function safe_indexing is deprecated; safe_indexing is deprecated in version 0.22 and will be removed in version 0.24.\n",
            "  warnings.warn(msg, category=FutureWarning)\n"
          ],
          "name": "stderr"
        },
        {
          "output_type": "stream",
          "text": [
            "word size:  1284\n",
            "word content:  {'new': 722, 'invoice': 556, 'energy': 341, 'vince': 1223, 'thanks': 1136}\n",
            "val_F1-score 0.9681978798586572\n",
            "------------------------------------------------------------------------------------------------------------------\n"
          ],
          "name": "stdout"
        },
        {
          "output_type": "stream",
          "text": [
            "/usr/local/lib/python3.6/dist-packages/sklearn/utils/deprecation.py:87: FutureWarning: Function safe_indexing is deprecated; safe_indexing is deprecated in version 0.22 and will be removed in version 0.24.\n",
            "  warnings.warn(msg, category=FutureWarning)\n",
            "/usr/local/lib/python3.6/dist-packages/sklearn/utils/deprecation.py:87: FutureWarning: Function safe_indexing is deprecated; safe_indexing is deprecated in version 0.22 and will be removed in version 0.24.\n",
            "  warnings.warn(msg, category=FutureWarning)\n"
          ],
          "name": "stderr"
        },
        {
          "output_type": "stream",
          "text": [
            "word size:  1406\n",
            "word content:  {'good': 516, 'morning': 779, 'vince': 1346, 'attached': 97, 'find': 456}\n",
            "val_F1-score 0.9652777777777778\n",
            "------------------------------------------------------------------------------------------------------------------\n"
          ],
          "name": "stdout"
        },
        {
          "output_type": "stream",
          "text": [
            "/usr/local/lib/python3.6/dist-packages/sklearn/utils/deprecation.py:87: FutureWarning: Function safe_indexing is deprecated; safe_indexing is deprecated in version 0.22 and will be removed in version 0.24.\n",
            "  warnings.warn(msg, category=FutureWarning)\n",
            "/usr/local/lib/python3.6/dist-packages/sklearn/utils/deprecation.py:87: FutureWarning: Function safe_indexing is deprecated; safe_indexing is deprecated in version 0.22 and will be removed in version 0.24.\n",
            "  warnings.warn(msg, category=FutureWarning)\n"
          ],
          "name": "stderr"
        },
        {
          "output_type": "stream",
          "text": [
            "word size:  1256\n",
            "word content:  {'could': 235, 'please': 827, 'ensure': 342, 'sufficient': 1090, 'resources': 947}\n",
            "val_F1-score 0.9825783972125435\n",
            "------------------------------------------------------------------------------------------------------------------\n"
          ],
          "name": "stdout"
        },
        {
          "output_type": "stream",
          "text": [
            "/usr/local/lib/python3.6/dist-packages/sklearn/utils/deprecation.py:87: FutureWarning: Function safe_indexing is deprecated; safe_indexing is deprecated in version 0.22 and will be removed in version 0.24.\n",
            "  warnings.warn(msg, category=FutureWarning)\n",
            "/usr/local/lib/python3.6/dist-packages/sklearn/utils/deprecation.py:87: FutureWarning: Function safe_indexing is deprecated; safe_indexing is deprecated in version 0.22 and will be removed in version 0.24.\n",
            "  warnings.warn(msg, category=FutureWarning)\n"
          ],
          "name": "stderr"
        },
        {
          "output_type": "stream",
          "text": [
            "word size:  1226\n",
            "word content:  {'presentation': 810, 'vince': 1165, 'tanya': 1071, 'bit': 118, 'long': 570}\n",
            "val_F1-score 0.9688581314878894\n",
            "------------------------------------------------------------------------------------------------------------------\n"
          ],
          "name": "stdout"
        },
        {
          "output_type": "stream",
          "text": [
            "/usr/local/lib/python3.6/dist-packages/sklearn/utils/deprecation.py:87: FutureWarning: Function safe_indexing is deprecated; safe_indexing is deprecated in version 0.22 and will be removed in version 0.24.\n",
            "  warnings.warn(msg, category=FutureWarning)\n",
            "/usr/local/lib/python3.6/dist-packages/sklearn/utils/deprecation.py:87: FutureWarning: Function safe_indexing is deprecated; safe_indexing is deprecated in version 0.22 and will be removed in version 0.24.\n",
            "  warnings.warn(msg, category=FutureWarning)\n"
          ],
          "name": "stderr"
        },
        {
          "output_type": "stream",
          "text": [
            "word size:  1400\n",
            "word content:  {'request': 1043, 'submitted': 1216, 'access': 6, 'john': 610, 'enron': 379}\n",
            "val_F1-score 0.9788732394366197\n",
            "------------------------------------------------------------------------------------------------------------------\n"
          ],
          "name": "stdout"
        },
        {
          "output_type": "stream",
          "text": [
            "/usr/local/lib/python3.6/dist-packages/sklearn/utils/deprecation.py:87: FutureWarning: Function safe_indexing is deprecated; safe_indexing is deprecated in version 0.22 and will be removed in version 0.24.\n",
            "  warnings.warn(msg, category=FutureWarning)\n",
            "/usr/local/lib/python3.6/dist-packages/sklearn/utils/deprecation.py:87: FutureWarning: Function safe_indexing is deprecated; safe_indexing is deprecated in version 0.22 and will be removed in version 0.24.\n",
            "  warnings.warn(msg, category=FutureWarning)\n"
          ],
          "name": "stderr"
        },
        {
          "output_type": "stream",
          "text": [
            "word size:  1287\n",
            "word content:  {'flow': 423, 'nom': 732, 'meter': 676, 'last': 575, 'deal': 268}\n",
            "val_F1-score 0.9688581314878894\n",
            "------------------------------------------------------------------------------------------------------------------\n"
          ],
          "name": "stdout"
        },
        {
          "output_type": "stream",
          "text": [
            "/usr/local/lib/python3.6/dist-packages/sklearn/utils/deprecation.py:87: FutureWarning: Function safe_indexing is deprecated; safe_indexing is deprecated in version 0.22 and will be removed in version 0.24.\n",
            "  warnings.warn(msg, category=FutureWarning)\n",
            "/usr/local/lib/python3.6/dist-packages/sklearn/utils/deprecation.py:87: FutureWarning: Function safe_indexing is deprecated; safe_indexing is deprecated in version 0.22 and will be removed in version 0.24.\n",
            "  warnings.warn(msg, category=FutureWarning)\n"
          ],
          "name": "stderr"
        },
        {
          "output_type": "stream",
          "text": [
            "word size:  1389\n",
            "word content:  {'contact': 242, 'list': 672, 'per': 894, 'request': 1041, 'please': 920}\n",
            "val_F1-score 0.979020979020979\n",
            "------------------------------------------------------------------------------------------------------------------\n"
          ],
          "name": "stdout"
        },
        {
          "output_type": "stream",
          "text": [
            "/usr/local/lib/python3.6/dist-packages/sklearn/utils/deprecation.py:87: FutureWarning: Function safe_indexing is deprecated; safe_indexing is deprecated in version 0.22 and will be removed in version 0.24.\n",
            "  warnings.warn(msg, category=FutureWarning)\n",
            "/usr/local/lib/python3.6/dist-packages/sklearn/utils/deprecation.py:87: FutureWarning: Function safe_indexing is deprecated; safe_indexing is deprecated in version 0.22 and will be removed in version 0.24.\n",
            "  warnings.warn(msg, category=FutureWarning)\n"
          ],
          "name": "stderr"
        },
        {
          "output_type": "stream",
          "text": [
            "word size:  1443\n",
            "word content:  {'review': 1100, 'assets': 93, 'value': 1371, 'potential': 967, 'exposure': 435}\n",
            "val_F1-score 0.968421052631579\n",
            "------------------------------------------------------------------------------------------------------------------\n"
          ],
          "name": "stdout"
        },
        {
          "output_type": "stream",
          "text": [
            "/usr/local/lib/python3.6/dist-packages/sklearn/utils/deprecation.py:87: FutureWarning: Function safe_indexing is deprecated; safe_indexing is deprecated in version 0.22 and will be removed in version 0.24.\n",
            "  warnings.warn(msg, category=FutureWarning)\n",
            "/usr/local/lib/python3.6/dist-packages/sklearn/utils/deprecation.py:87: FutureWarning: Function safe_indexing is deprecated; safe_indexing is deprecated in version 0.22 and will be removed in version 0.24.\n",
            "  warnings.warn(msg, category=FutureWarning)\n"
          ],
          "name": "stderr"
        },
        {
          "output_type": "stream",
          "text": [
            "word size:  1447\n",
            "word content:  {'hpl': 587, 'december': 320, 'see': 1159, 'attached': 103, 'file': 475}\n",
            "val_F1-score 0.9722222222222222\n",
            "------------------------------------------------------------------------------------------------------------------\n"
          ],
          "name": "stdout"
        },
        {
          "output_type": "stream",
          "text": [
            "/usr/local/lib/python3.6/dist-packages/sklearn/utils/deprecation.py:87: FutureWarning: Function safe_indexing is deprecated; safe_indexing is deprecated in version 0.22 and will be removed in version 0.24.\n",
            "  warnings.warn(msg, category=FutureWarning)\n",
            "/usr/local/lib/python3.6/dist-packages/sklearn/utils/deprecation.py:87: FutureWarning: Function safe_indexing is deprecated; safe_indexing is deprecated in version 0.22 and will be removed in version 0.24.\n",
            "  warnings.warn(msg, category=FutureWarning)\n"
          ],
          "name": "stderr"
        },
        {
          "output_type": "stream",
          "text": [
            "word size:  1357\n",
            "word content:  {'lunch': 684, 'sorry': 1127, 'try': 1245, 'forwarded': 455, 'hou': 534}\n",
            "val_F1-score 0.965034965034965\n",
            "------------------------------------------------------------------------------------------------------------------\n"
          ],
          "name": "stdout"
        },
        {
          "output_type": "stream",
          "text": [
            "/usr/local/lib/python3.6/dist-packages/sklearn/utils/deprecation.py:87: FutureWarning: Function safe_indexing is deprecated; safe_indexing is deprecated in version 0.22 and will be removed in version 0.24.\n",
            "  warnings.warn(msg, category=FutureWarning)\n",
            "/usr/local/lib/python3.6/dist-packages/sklearn/utils/deprecation.py:87: FutureWarning: Function safe_indexing is deprecated; safe_indexing is deprecated in version 0.22 and will be removed in version 0.24.\n",
            "  warnings.warn(msg, category=FutureWarning)\n"
          ],
          "name": "stderr"
        },
        {
          "output_type": "stream",
          "text": [
            "word size:  1388\n",
            "word content:  {'daily': 288, 'gas': 491, 'chance': 187, 'unit': 1297, 'maintenance': 707}\n",
            "val_F1-score 0.979020979020979\n",
            "------------------------------------------------------------------------------------------------------------------\n"
          ],
          "name": "stdout"
        },
        {
          "output_type": "stream",
          "text": [
            "/usr/local/lib/python3.6/dist-packages/sklearn/utils/deprecation.py:87: FutureWarning: Function safe_indexing is deprecated; safe_indexing is deprecated in version 0.22 and will be removed in version 0.24.\n",
            "  warnings.warn(msg, category=FutureWarning)\n",
            "/usr/local/lib/python3.6/dist-packages/sklearn/utils/deprecation.py:87: FutureWarning: Function safe_indexing is deprecated; safe_indexing is deprecated in version 0.22 and will be removed in version 0.24.\n",
            "  warnings.warn(msg, category=FutureWarning)\n"
          ],
          "name": "stderr"
        },
        {
          "output_type": "stream",
          "text": [
            "word size:  1425\n",
            "word content:  {'fw': 492, 'pipe': 925, 'ownership': 876, 'fyi': 494, 'kim': 646}\n",
            "val_F1-score 0.9652777777777778\n",
            "------------------------------------------------------------------------------------------------------------------\n"
          ],
          "name": "stdout"
        },
        {
          "output_type": "stream",
          "text": [
            "/usr/local/lib/python3.6/dist-packages/sklearn/utils/deprecation.py:87: FutureWarning: Function safe_indexing is deprecated; safe_indexing is deprecated in version 0.22 and will be removed in version 0.24.\n",
            "  warnings.warn(msg, category=FutureWarning)\n",
            "/usr/local/lib/python3.6/dist-packages/sklearn/utils/deprecation.py:87: FutureWarning: Function safe_indexing is deprecated; safe_indexing is deprecated in version 0.22 and will be removed in version 0.24.\n",
            "  warnings.warn(msg, category=FutureWarning)\n"
          ],
          "name": "stderr"
        },
        {
          "output_type": "stream",
          "text": [
            "word size:  1423\n",
            "word content:  {'texas': 1264, 'meeting': 749, 'volume': 1363, 'issues': 612, 'provide': 990}\n",
            "val_F1-score 0.9859154929577465\n",
            "------------------------------------------------------------------------------------------------------------------\n"
          ],
          "name": "stdout"
        },
        {
          "output_type": "stream",
          "text": [
            "/usr/local/lib/python3.6/dist-packages/sklearn/utils/deprecation.py:87: FutureWarning: Function safe_indexing is deprecated; safe_indexing is deprecated in version 0.22 and will be removed in version 0.24.\n",
            "  warnings.warn(msg, category=FutureWarning)\n",
            "/usr/local/lib/python3.6/dist-packages/sklearn/utils/deprecation.py:87: FutureWarning: Function safe_indexing is deprecated; safe_indexing is deprecated in version 0.22 and will be removed in version 0.24.\n",
            "  warnings.warn(msg, category=FutureWarning)\n"
          ],
          "name": "stderr"
        },
        {
          "output_type": "stream",
          "text": [
            "word size:  1618\n",
            "word content:  {'enron': 453, 'hpl': 659, 'actuals': 22, 'august': 116, 'teco': 1427}\n",
            "val_F1-score 0.9754385964912281\n",
            "------------------------------------------------------------------------------------------------------------------\n"
          ],
          "name": "stdout"
        },
        {
          "output_type": "stream",
          "text": [
            "/usr/local/lib/python3.6/dist-packages/sklearn/utils/deprecation.py:87: FutureWarning: Function safe_indexing is deprecated; safe_indexing is deprecated in version 0.22 and will be removed in version 0.24.\n",
            "  warnings.warn(msg, category=FutureWarning)\n",
            "/usr/local/lib/python3.6/dist-packages/sklearn/utils/deprecation.py:87: FutureWarning: Function safe_indexing is deprecated; safe_indexing is deprecated in version 0.22 and will be removed in version 0.24.\n",
            "  warnings.warn(msg, category=FutureWarning)\n"
          ],
          "name": "stderr"
        },
        {
          "output_type": "stream",
          "text": [
            "word size:  1499\n",
            "word content:  {'needed': 836, 'interviews': 641, 'monday': 811, 'program': 1022, 'running': 1145}\n",
            "val_F1-score 0.975609756097561\n",
            "------------------------------------------------------------------------------------------------------------------\n"
          ],
          "name": "stdout"
        }
      ]
    },
    {
      "cell_type": "code",
      "metadata": {
        "id": "1Tref7zRoPU9"
      },
      "source": [
        ""
      ],
      "execution_count": null,
      "outputs": []
    },
    {
      "cell_type": "markdown",
      "metadata": {
        "id": "nPynEsnY5RCM"
      },
      "source": [
        "/usr/local/lib/python3.6/dist-packages/sklearn/utils/deprecation.py:87: FutureWarning: Function safe_indexing is deprecated; safe_indexing is deprecated in version 0.22 and will be removed in version 0.24.\n",
        "  warnings.warn(msg, category=FutureWarning)\n",
        "/usr/local/lib/python3.6/dist-packages/sklearn/utils/deprecation.py:87: FutureWarning: Function safe_indexing is deprecated; safe_indexing is deprecated in version 0.22 and will be removed in version 0.24.\n",
        "  warnings.warn(msg, category=FutureWarning)\n",
        "word size:  1812\n",
        "word content:  {'request': 1356, 'access': 7, 'enron': 501, 'com': 270, 'received': 1322}\n",
        "val_F1-score 0.9659090909090909\n",
        "------------------------------------------------------------------------------------------------------------------\n",
        "/usr/local/lib/python3.6/dist-packages/sklearn/utils/deprecation.py:87: FutureWarning: Function safe_indexing is deprecated; safe_indexing is deprecated in version 0.22 and will be removed in version 0.24.\n",
        "  warnings.warn(msg, category=FutureWarning)\n",
        "/usr/local/lib/python3.6/dist-packages/sklearn/utils/deprecation.py:87: FutureWarning: Function safe_indexing is deprecated; safe_indexing is deprecated in version 0.22 and will be removed in version 0.24.\n",
        "  warnings.warn(msg, category=FutureWarning)\n",
        "word size:  1662\n",
        "word content:  {'meeting': 887, 'vince': 1591, 'went': 1614, 'boring': 170, 'school': 1295}\n",
        "val_F1-score 0.9798270893371758\n",
        "------------------------------------------------------------------------------------------------------------------\n",
        "/usr/local/lib/python3.6/dist-packages/sklearn/utils/deprecation.py:87: FutureWarning: Function safe_indexing is deprecated; safe_indexing is deprecated in version 0.22 and will be removed in version 0.24.\n",
        "  warnings.warn(msg, category=FutureWarning)\n",
        "/usr/local/lib/python3.6/dist-packages/sklearn/utils/deprecation.py:87: FutureWarning: Function safe_indexing is deprecated; safe_indexing is deprecated in version 0.22 and will be removed in version 0.24.\n",
        "  warnings.warn(msg, category=FutureWarning)\n",
        "word size:  2088\n",
        "word content:  {'planning': 1371, 'energy': 592, 'finance': 708, 'class': 322, 'presentation': 1417}\n",
        "val_F1-score 0.9604519774011299\n",
        "------------------------------------------------------------------------------------------------------------------\n",
        "/usr/local/lib/python3.6/dist-packages/sklearn/utils/deprecation.py:87: FutureWarning: Function safe_indexing is deprecated; safe_indexing is deprecated in version 0.22 and will be removed in version 0.24.\n",
        "  warnings.warn(msg, category=FutureWarning)\n",
        "/usr/local/lib/python3.6/dist-packages/sklearn/utils/deprecation.py:87: FutureWarning: Function safe_indexing is deprecated; safe_indexing is deprecated in version 0.22 and will be removed in version 0.24.\n",
        "  warnings.warn(msg, category=FutureWarning)\n",
        "word size:  1864\n",
        "word content:  {'start': 1593, 'date': 395, 'hourahead': 751, 'hour': 750, 'ancillary': 86}\n",
        "val_F1-score 0.9798270893371758\n",
        "------------------------------------------------------------------------------------------------------------------\n",
        "/usr/local/lib/python3.6/dist-packages/sklearn/utils/deprecation.py:87: FutureWarning: Function safe_indexing is deprecated; safe_indexing is deprecated in version 0.22 and will be removed in version 0.24.\n",
        "  warnings.warn(msg, category=FutureWarning)\n",
        "/usr/local/lib/python3.6/dist-packages/sklearn/utils/deprecation.py:87: FutureWarning: Function safe_indexing is deprecated; safe_indexing is deprecated in version 0.22 and will be removed in version 0.24.\n",
        "  warnings.warn(msg, category=FutureWarning)\n",
        "word size:  1666\n",
        "word content:  {'fw': 588, 'tax': 1481, 'reserve': 1258, 'spoke': 1418, 'matthew': 874}\n",
        "val_F1-score 0.9798270893371758\n",
        "------------------------------------------------------------------------------------------------------------------\n",
        "/usr/local/lib/python3.6/dist-packages/sklearn/utils/deprecation.py:87: FutureWarning: Function safe_indexing is deprecated; safe_indexing is deprecated in version 0.22 and will be removed in version 0.24.\n",
        "  warnings.warn(msg, category=FutureWarning)\n",
        "/usr/local/lib/python3.6/dist-packages/sklearn/utils/deprecation.py:87: FutureWarning: Function safe_indexing is deprecated; safe_indexing is deprecated in version 0.22 and will be removed in version 0.24.\n",
        "  warnings.warn(msg, category=FutureWarning)\n",
        "word size:  1979\n",
        "word content:  {'open': 1199, 'season': 1568, 'package': 1227, 'expansion': 597, 'firm': 664}\n",
        "val_F1-score 0.9770114942528735\n",
        "------------------------------------------------------------------------------------------------------------------\n",
        "/usr/local/lib/python3.6/dist-packages/sklearn/utils/deprecation.py:87: FutureWarning: Function safe_indexing is deprecated; safe_indexing is deprecated in version 0.22 and will be removed in version 0.24.\n",
        "  warnings.warn(msg, category=FutureWarning)\n",
        "/usr/local/lib/python3.6/dist-packages/sklearn/utils/deprecation.py:87: FutureWarning: Function safe_indexing is deprecated; safe_indexing is deprecated in version 0.22 and will be removed in version 0.24.\n",
        "  warnings.warn(msg, category=FutureWarning)\n",
        "word size:  1635\n",
        "word content:  {'possible': 1083, 'would': 1619, 'like': 765, 'another': 74, 'told': 1487}\n",
        "val_F1-score 0.974063400576369\n",
        "------------------------------------------------------------------------------------------------------------------"
      ]
    },
    {
      "cell_type": "code",
      "metadata": {
        "id": "Bqs3UMTVaXLK"
      },
      "source": [
        "# 予測結果を多数決\n",
        "prediction = stats.mode(preds)[0]\n",
        "\n",
        "# spam判定数を確認\n",
        "# test全体で17000とのこと\n",
        "# 今のところrange(11)で17008, range(7)で17003\n",
        "prediction.sum()"
      ],
      "execution_count": null,
      "outputs": []
    },
    {
      "cell_type": "code",
      "metadata": {
        "id": "NLpBaWGxaYpO"
      },
      "source": [
        "# 提出用DaraFrameの作成\n",
        "sub = pd.DataFrame(test[\"id\"])\n",
        "sub[\"y\"] = prediction.T\n"
      ],
      "execution_count": null,
      "outputs": []
    },
    {
      "cell_type": "code",
      "metadata": {
        "id": "Rj8CaS35aaRS"
      },
      "source": [
        "# 予測ファイルの作成\n",
        "# range(7)でLB:0.9715428034\n",
        "sub.to_csv(\"submission.csv\",index=False)"
      ],
      "execution_count": null,
      "outputs": []
    }
  ]
}